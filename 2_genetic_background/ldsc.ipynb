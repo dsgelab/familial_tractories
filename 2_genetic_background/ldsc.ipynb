{
 "cells": [
  {
   "cell_type": "markdown",
   "source": [
    "# Heritability and Genetic Correlation\n",
    "\n",
    "https://github.com/bulik/ldsc/wiki/Heritability-and-Genetic-Correlation"
   ],
   "metadata": {
    "collapsed": false
   }
  },
  {
   "cell_type": "code",
   "execution_count": null,
   "outputs": [],
   "source": [
    "import re\n",
    "import os\n",
    "import pandas as pd\n",
    "import numpy as np\n",
    "from scipy.stats import norm\n",
    "from statsmodels.stats import multitest\n",
    "import warnings\n",
    "warnings.filterwarnings('ignore')"
   ],
   "metadata": {
    "collapsed": false,
    "pycharm": {
     "name": "#%%\n"
    }
   }
  },
  {
   "cell_type": "code",
   "execution_count": null,
   "outputs": [],
   "source": [
    "OUTCOME = 'T1D_STRICT'\n",
    "data_dir = os.getcwd()+'/data/'\n",
    "# res_dir = os.getcwd()+'/res/'\n",
    "res_dir = '/Users/feiwang/Documents/Materials/t1d/'"
   ],
   "metadata": {
    "collapsed": false,
    "pycharm": {
     "name": "#%%\n"
    }
   }
  },
  {
   "cell_type": "code",
   "execution_count": null,
   "outputs": [],
   "source": [
    "eps = ['CHIRBIL_PRIM','D3_AIHA_OTHER','D3_ALLERGPURPURA','D3_ANAEMIA_B12_DEF','D3_ITP','D3_SARCOIDOSIS','E4_ADDISON','E4_GRAVES_STRICT',\n",
    "       'E4_HYTHY_AI_STRICT','G6_GUILBAR','G6_MS','G6_MYASTHENIA','K11_COELIAC','K11_IBD','L12_ALOPECAREATA','L12_PSORIASIS',\n",
    "       'L12_VITILIGO','M13_ANKYLOSPON','M13_MCTD','M13_RHEUMA','M13_SJOGREN','M13_SYSTSLCE','M13_WEGENER','N14_IGA_NEPHROPATHY','SLE_FG',\n",
    "       'T1D_STRICT']\n",
    "eps_dict = {\n",
    "    'D3_AIHA_OTHER':'Autoimmune hemolytic anemia',\n",
    "    'D3_ALLERGPURPURA':'Allergic purpura',\n",
    "    'D3_ANAEMIA_B12_DEF':'Vitamin B12 deficiency anaemia',\n",
    "    'D3_ITP':'Idiopathic thrombocytopenic purpura',\n",
    "    'D3_SARCOIDOSIS': 'Sarcoidosis',\n",
    "    'CHIRBIL_PRIM':'Primary biliary cholangitis',\n",
    "    'K11_COELIAC':'Coeliac disease',\n",
    "    'K11_IBD':'Inflammatory bowel disease',\n",
    "    'N14_IGA_NEPHROPATHY':'IgA nephropathy',\n",
    "    'M13_ANKYLOSPON': 'Ankylosing spondylitis',\n",
    "    'M13_MCTD':'Mixed connective tissue disease',\n",
    "    'M13_RHEUMA':'Rheumatoid arthritis',\n",
    "    'M13_SJOGREN':'Sjögren syndrome',\n",
    "    'M13_SYSTSLCE':'Systemic sclerosis',\n",
    "    'M13_WEGENER':'Wegener granulomatosis',\n",
    "    'SLE_FG':'Systemic lupus erythematosus',\n",
    "    'G6_GUILBAR':'Guillain-Barre syndrome',\n",
    "    'G6_MS':'Multiple Sclerosis',\n",
    "    'G6_MYASTHENIA':'Myasthenia gravis',\n",
    "    'L12_ALOPECAREATA':'Alopecia areata',\n",
    "    'L12_PSORIASIS':'Psoriasis',\n",
    "    'L12_VITILIGO':'Vitiligo',\n",
    "    'E4_ADDISON':'Adrenocortical insufficiency',\n",
    "    'E4_GRAVES_STRICT':'Autoimmune hyperthyroidism',\n",
    "    'E4_HYTHY_AI_STRICT':'Autoimmune hypothyroidism',\n",
    "    'T1D_STRICT':'Type 1 diabetes'\n",
    "}"
   ],
   "metadata": {
    "collapsed": false,
    "pycharm": {
     "name": "#%%\n"
    }
   }
  },
  {
   "cell_type": "markdown",
   "source": [
    "## 1. Process data for LDSC\n",
    "check if ref allele and alt allele are on the same direction."
   ],
   "metadata": {
    "collapsed": false
   }
  },
  {
   "cell_type": "markdown",
   "source": [
    "### if good summary stats can be found from GWAS Catalog:\n",
    "https://www.ebi.ac.uk/gwas/"
   ],
   "metadata": {
    "collapsed": false
   }
  },
  {
   "cell_type": "code",
   "execution_count": null,
   "outputs": [],
   "source": [
    "# Choose the summary stats by the effect size. The bigger, the better.\n",
    "# formula: ((4 * n_cases * n_controls)/(n_cases + n_controls))\n",
    "\n",
    "ep = 'SLE_FG'\n",
    "# 'T1D_STRICT', 'K11_COELIAC', 'SLE_FG', 'M13_RHEUMA', 'T2D', 'L12_VITILIGO'\n",
    "# 'G6_MYASTHENIA', 'J10_ASTHMA', 'G6_MS', 'L12_PSORIASIS'\n",
    "\n",
    "file_in = res_dir+'data/'+ep+'.txt' # tsv txt\n",
    "# file_in = res_dir+'data/'+ep+'_meta_out.tsv.gz'\n",
    "file_out = res_dir+'processed_stats_/'+ep+'.premunge.gz'\n",
    "if not os.path.isfile(file_in):\n",
    "    file_in = res_dir+'data/'+ep+'.tsv'\n",
    "if not os.path.isfile(file_in):\n",
    "    file_in = res_dir+'data/'+ep+'.csv'\n",
    "if not os.path.isfile(file_in):\n",
    "    print('Data cannot be found!')\n",
    "df = pd.read_csv(file_in, sep='\\t')\n",
    "if len(df.columns) == 1:\n",
    "    df = pd.read_csv(file_in, sep=' ')\n",
    "if len(df.columns) == 1:\n",
    "    df = pd.read_csv(file_in)\n",
    "#     try:\n",
    "#         df = pd.read_csv(file_in, sep=' ')\n",
    "#     except pd.errors.ParserError:\n",
    "#         df = pd.read_csv(file_in)\n",
    "df = df.rename(columns={\n",
    "    'rsid': 'snpid', 'SNPID': 'snpid', 'variant_id': 'snpid', 'SNP': 'snpid',\n",
    "    'effect_allele': 'a1', 'A1': 'a1', 'A1_effect': 'a1',\n",
    "    'other_allele': 'a2', 'A2': 'a2', 'A2_other': 'a2',\n",
    "    'p': 'pval', 'P-val': 'pval', 'p_value': 'pval', 'P_EUR': 'pval',\n",
    "    'OR(A1)': 'or', 'odds_ratio': 'or',\n",
    "    'standard_error': 'se', 'se_EUR': 'se',\n",
    "    'beta_EUR': 'beta'\n",
    "})\n",
    "print(len(df))\n",
    "df.head(3)"
   ],
   "metadata": {
    "collapsed": false,
    "pycharm": {
     "name": "#%%\n"
    }
   }
  },
  {
   "cell_type": "markdown",
   "source": [
    "### if RSID is not in the summary stats:"
   ],
   "metadata": {
    "collapsed": false
   }
  },
  {
   "cell_type": "code",
   "execution_count": null,
   "outputs": [],
   "source": [
    "Infile=res_dir+'data/'+\"L12_PSORIASIS.tsv\"\n",
    "OutFile=res_dir+'data/'+\"L12_PSORIASIS_TEST.tsv\"\n",
    "HM3ref=res_dir+'data/'+\"HM3Ref\"\n",
    "build=res_dir+'data/'+\"hg37\""
   ],
   "metadata": {
    "collapsed": false,
    "pycharm": {
     "name": "#%%\n"
    }
   }
  },
  {
   "cell_type": "code",
   "execution_count": null,
   "outputs": [],
   "source": [
    "df = pd.read_table(Infile, low_memory=False)\n",
    "df['hg37'] = 'chr'+df.chromosome.astype(str)+':'+df.base_pair_location.astype(str)\n",
    "df['A1'] = df.effect_allele.str.upper()\n",
    "df['A2'] = df.other_allele.str.upper()\n",
    "Ref = pd.read_table(HM3ref)\n",
    "ref = Ref.rename(columns={'REF': 'A1', 'ALT': 'A2'})\n",
    "tmp1 = pd.merge(df, ref, how = 'inner', on = [build, 'A1', 'A2'])\n",
    "tmp1 = tmp1.drop(['hg36', 'hg37', 'hg38'], axis=1)\n",
    "ref = Ref.rename(columns={'REF': 'A2', 'ALT': 'A1'})\n",
    "tmp2 = pd.merge(df, ref, how = 'inner', on = [build, 'A1', 'A2'])\n",
    "tmp2 = tmp2.drop(['hg36', 'hg37', 'hg38'], axis=1)\n",
    "tmp = pd.concat([tmp1, tmp2])\n",
    "tmp.to_csv(OutFile, sep = '\\t', index = None)"
   ],
   "metadata": {
    "collapsed": false,
    "pycharm": {
     "name": "#%%\n"
    }
   }
  },
  {
   "cell_type": "code",
   "execution_count": null,
   "outputs": [],
   "source": [
    "# All SNPs on chromosome 23 have been removed from the list\n",
    "Ref['chr'] = Ref.hg38.str.extract('chr(\\d+)\\:')\n",
    "Ref[Ref.chr=='23']"
   ],
   "metadata": {
    "collapsed": false,
    "pycharm": {
     "name": "#%%\n"
    }
   }
  },
  {
   "cell_type": "markdown",
   "source": [
    "### if an endpoint has sub dataset for each chromosome:"
   ],
   "metadata": {
    "collapsed": false
   }
  },
  {
   "cell_type": "code",
   "execution_count": null,
   "outputs": [],
   "source": [
    "df = pd.read_csv(data_dir+'/vitiligo/GWAS123chrXcmh.txt', sep='\\t')\n",
    "for i in tqdm.tqdm(range(1, 23)):\n",
    "    df_ = pd.read_csv(data_dir+'/vitiligo/GWAS123chr'+str(i)+'cmh.txt', sep='\\t')\n",
    "    df_ = df_.rename(columns={'CMH P':'P', 'ORX':'OR'})\n",
    "    df = pd.concat([df, df_], axis=0)\n",
    "df['snpid'] = df.SNP.str.lower()\n",
    "df = df.rename(columns={'A1': 'a1', 'A2': 'a2', 'P': 'p', 'OR': 'or', 'SE': 'se'})\n",
    "df = df[['a1', 'a2', 'p', 'or', 'se', 'snpid']]\n",
    "df.to_csv(data_dir+'/autoimmune_gwas_sumstats/L12_VITILIGO.txt', index=None)"
   ],
   "metadata": {
    "collapsed": false,
    "pycharm": {
     "name": "#%%\n"
    }
   }
  },
  {
   "cell_type": "markdown",
   "source": [
    "### if the format of the summary stats has a problem:\n",
    "the number of the cols in some rows are larger than the number of the header"
   ],
   "metadata": {
    "collapsed": false
   }
  },
  {
   "cell_type": "code",
   "execution_count": null,
   "outputs": [],
   "source": [
    "# 'K11_IBD', 'K11_CROHN', 'M13_SJOGREN' finn, 'M13_SYSTSLCE' 格式, 'G6_MS'\n",
    "\n",
    "ep = 'K11_CROHN'\n",
    "file_in = data_dir+ep+'.txt'\n",
    "file_out = data_dir+ep+'.premunge.gz'\n",
    "matrix = []\n",
    "with open(file_in) as f:\n",
    "    for line in f:\n",
    "        row = line.split(' ')\n",
    "        if len(row) != 8:\n",
    "            row = row[:7] + [row[-1]]\n",
    "        matrix.append(row)\n",
    "matrix = np.array(matrix)\n",
    "df = pd.DataFrame(matrix[1:], columns=matrix[0])\n",
    "df['snpid'] = df['SNP\\n'].str[:-1]\n",
    "df = df.rename(columns={\n",
    "    'Allele1': 'a1',\n",
    "    'Allele2': 'a2',\n",
    "    'P.value': 'pval',\n",
    "    'Effect': 'beta'\n",
    "})\n",
    "df['beta'] = df.beta.astype(float)\n",
    "df['pval'] = df.pval.astype(float)\n",
    "print(len(df))\n",
    "df.head(3)\n"
   ],
   "metadata": {
    "collapsed": false,
    "pycharm": {
     "name": "#%%\n"
    }
   }
  },
  {
   "cell_type": "code",
   "execution_count": null,
   "outputs": [],
   "source": [
    "# find out which paper using this data by searching the newly found loci in the paper\n",
    "rsid = 'rs80244186'\n",
    "a=df[df.snpid == rsid]\n",
    "print('or: ', round(np.exp(a.iloc[0,-1]), 2))\n",
    "print('p:  ', a.iloc[0,-2])"
   ],
   "metadata": {
    "collapsed": false,
    "pycharm": {
     "name": "#%%\n"
    }
   }
  },
  {
   "cell_type": "markdown",
   "source": [
    "### if summary stats can be find from Finngen results:\n",
    "1. to download data from Finngen + UKBB:\n",
    "- https://finngen.gitbook.io/finngen-analyst-handbook/finngen-data-specifics/green-library-data-aggregate-data/other-analyses-available/meta-analysis-finngen-ukbb-estbbuntitled\n",
    "- gsutil cp gs://finngen-production-library-green/finngen_R9/finngen_R9_analysis_data/ukbb_meta/meta/G6_MS_meta_out.tsv.gz /Users/feiwang/Documents/Materials/familial_trajectory/data"
   ],
   "metadata": {
    "collapsed": false
   }
  },
  {
   "cell_type": "code",
   "execution_count": null,
   "outputs": [],
   "source": [
    "# L12_ALOPECAREATA, N14_IGA_NEPHROPATHY, GEST_DIABETES, G6_OTHDEMYEL, E4_THYROIDITAUTOIM,\n",
    "# E4_HYTHY_AI_STRICT, D3_ANAEMIA_B12_DEF, CHIRBIL_PRIM, AUTOIMMUNE_HYPERTHYROIDISM, M13_SJOGREN\n",
    "\n",
    "ep = 'G6_MS'\n",
    "file_in = res_dir+'data/'+ep+'_meta_out.tsv.gz'\n",
    "file_out = res_dir+'processed_stats/'+ep+'.premunge.gz'\n",
    "df = pd.read_csv(file_in, sep='\\t')\n",
    "df = df.rename(columns={\n",
    "    'rsid': 'snpid',\n",
    "    'REF': 'a1',\n",
    "    'ALT': 'a2',\n",
    "    'all_inv_var_meta_p': 'pval',\n",
    "    'all_inv_var_meta_beta': 'beta'\n",
    "})\n",
    "print(len(df))\n",
    "df.head(3)"
   ],
   "metadata": {
    "collapsed": false,
    "pycharm": {
     "name": "#%%\n"
    }
   }
  },
  {
   "cell_type": "markdown",
   "source": [
    "2. to download data from Finngen if the endpoint cannot be found from Finngen + UKBB:\n",
    "- gsutil cp gs://finngen-production-library-green/finngen_R9/finngen_R9_analysis_data/summary_stats/release/finngen_R9_M13_RHEUMA.gz /Users/feiwang/Documents/Materials/familial_trajectory/data"
   ],
   "metadata": {
    "collapsed": false
   }
  },
  {
   "cell_type": "code",
   "execution_count": null,
   "outputs": [],
   "source": [
    "# D3_AIHA_OTHER, D3_ALLERGPURPURA, D3_ITP, E4_ADDISON, G6_DISSOTH, G6_GUILBAR,\n",
    "# H7_IRIDOCYC_ANTER, L12_DERMATHERP, M13_MCTD, M13_WEGENER\n",
    "\n",
    "ep = 'K11_COELIAC'\n",
    "file_in = res_dir+'data/finngen_R9_'+ep+'.gz'\n",
    "file_out = res_dir+'processed_stats/'+ep+'.premunge.gz'\n",
    "df = pd.read_csv(file_in, sep='\\t')\n",
    "df = df.rename(columns={\n",
    "    'rsids': 'snpid',\n",
    "    'ref': 'a1',\n",
    "    'alt': 'a2',\n",
    "})\n",
    "print(len(df))\n",
    "df.head(3)"
   ],
   "metadata": {
    "collapsed": false,
    "pycharm": {
     "name": "#%%\n"
    }
   }
  },
  {
   "cell_type": "markdown",
   "source": [
    "### save the data as a pre-munge file"
   ],
   "metadata": {
    "collapsed": false
   }
  },
  {
   "cell_type": "code",
   "execution_count": null,
   "outputs": [],
   "source": [
    "# if the data above looks all good, save it as a zipped tsv\n",
    "df = df[['snpid', 'A2', 'A1', 'pval', 'beta']]\n",
    "df.to_csv(file_out, sep='\\t', compression='gzip', index=None)"
   ],
   "metadata": {
    "collapsed": false,
    "pycharm": {
     "name": "#%%\n"
    }
   }
  },
  {
   "cell_type": "code",
   "execution_count": null,
   "outputs": [],
   "source": [
    "df = df.rename(columns={'a1':'A2', 'a2':'A1'})\n",
    "df.head(3)"
   ],
   "metadata": {
    "collapsed": false,
    "pycharm": {
     "name": "#%%\n"
    }
   }
  },
  {
   "cell_type": "markdown",
   "source": [
    "## 2. Munge the data and apply LDSC in terminal\n",
    "- In terminal, run code below:\n",
    "<code>\n",
    "    cd Projects/familial_trajectory/ldsc\n",
    "    source activate ldsc\n",
    "    ep1=T1D_STRICT\n",
    "    ep2=K11_IBD\n",
    "    python munge_sumstats.py \\\n",
    "        --sumstats data/$ep2.premunge.gz \\\n",
    "        --N-cas 2051 \\\n",
    "        --N-con 594747 \\\n",
    "        --out data/$ep2 \\\n",
    "        --merge-alleles w_hm3.snplist \\\n",
    "        --chunksize 500000\n",
    "    python ldsc.py \\\n",
    "        --rg data/$ep1.sumstats.gz,data/$ep2.sumstats.gz \\\n",
    "        --ref-ld-chr eur_w_ld_chr/ \\\n",
    "        --w-ld-chr eur_w_ld_chr/ \\\n",
    "        --out res/$ep1.$ep2\n",
    "</code>"
   ],
   "metadata": {
    "collapsed": false
   }
  },
  {
   "cell_type": "markdown",
   "source": [
    "## 3. Extract the results from log files and merge the information\n",
    "https://academic.oup.com/bioinformatics/article/33/2/272/2525718\n",
    "- Heritability (H2) Z score is at least > 1.5 (optimal > 4)\n",
    "- Mean Chi square of the test statistics > 1.02\n",
    "- The intercept estimated from the SNP heritability analysis is between 0.9 and 1.1"
   ],
   "metadata": {
    "collapsed": false
   }
  },
  {
   "cell_type": "code",
   "execution_count": null,
   "outputs": [],
   "source": [
    "header1 = ['mean chi2_1', 'b_1', 'mean chi2_2', 'b_2']\n",
    "header2 = ['ep1', 'ep2', 'rg', 'se','z', 'p', 'h2_obs', 'h2_obs_se', 'h2_int', 'h2_int_se', 'gcov_int', 'gcov_int_se']\n",
    "\n",
    "def findStats(string):\n",
    "    stats1 = re.findall(r'data/([\\w_\\d]+)\\.sumstats\\.gz', string)\n",
    "    stats2 = re.findall(r'\\s+([-]{0,1}\\d+\\.\\d+(e\\-\\d+){0,1})', string)\n",
    "    if len(stats2) != 10:\n",
    "        print(string)\n",
    "    stats2 = [float(\"{:.4f}\".format(float(i[0]))) for i in stats2]\n",
    "    stat_dict = dict(zip(header2, stats1+stats2))\n",
    "    return stat_dict\n",
    "\n",
    "def readLog(log_file, df):\n",
    "    with open(log_file) as f:\n",
    "        log = f.readlines()\n",
    "    if len(log) != 0:\n",
    "        findings1 = []\n",
    "        for line in log:\n",
    "            if re.match(r'^Mean Chi\\^2\\: ', line): \n",
    "                findings1.append(re.findall(r'^Mean Chi\\^2\\: (.+)$', line)[0])\n",
    "            if re.match(r'^Intercept\\: ', line): \n",
    "                findings1.append(re.findall(r'^Intercept\\: (.+) \\(\\d', line)[0])\n",
    "            if re.match(r'^data/', line):\n",
    "                findings2 = findStats(line)\n",
    "        findings1 = dict(zip(header1, findings1))\n",
    "        df = df.append(pd.Series({**findings1, **findings2}), ignore_index=True)\n",
    "    return df"
   ],
   "metadata": {
    "collapsed": false,
    "pycharm": {
     "name": "#%%\n"
    }
   }
  },
  {
   "cell_type": "code",
   "execution_count": null,
   "outputs": [],
   "source": [
    "ep1 = 'T1D_STRICT'\n",
    "stat_df = pd.DataFrame(columns=header1+header2, dtype=object)\n",
    "for ep2 in eps[1:]:\n",
    "    f_name = res_dir+'ldsc_res/'+ep1+'.'+ep2+'.log'\n",
    "    if os.path.isfile(f_name):\n",
    "        stat_df = readLog(f_name, stat_df)\n",
    "    else:\n",
    "        print(ep2)\n",
    "stat_df = stat_df.sort_values(by='h2_obs')\n",
    "stat_df['fdr_ldsc'], _ = multitest.fdrcorrection(stat_df.p)"
   ],
   "metadata": {
    "collapsed": false,
    "pycharm": {
     "name": "#%%\n"
    }
   }
  },
  {
   "cell_type": "markdown",
   "source": [
    "### 3.1 Analysis without chromosome 6\n",
    "Removal of HLA region in LDSC https://groups.google.com/g/ldsc_users/c/fEDtVvcm5oc"
   ],
   "metadata": {
    "collapsed": false
   }
  },
  {
   "cell_type": "code",
   "execution_count": null,
   "outputs": [],
   "source": [
    "# analysis without chromosome 6\n",
    "hm3 = pd.read_table(res_dir+'w_hm3.snplist')\n",
    "hm3 = hm3.merge(Ref[['SNP','hg38']], 'left', on='SNP')\n",
    "hm3['chr'] = hm3.hg38.str.extract('^(chr\\d+):')\n",
    "hm3_without6 = hm3[hm3.chr != 'chr6']\n",
    "hm3_without6.to_csv(res_dir+'hm3_without6.csv', index=None)"
   ],
   "metadata": {
    "collapsed": false,
    "pycharm": {
     "name": "#%%\n"
    }
   }
  },
  {
   "cell_type": "code",
   "execution_count": null,
   "outputs": [],
   "source": [
    "ep = 'M13_RHEUMA'\n",
    "file_in = res_dir+'processed_stats_/'+ep+'.premunge.gz'\n",
    "file_out = res_dir+'processed_stats_without6/'+ep+'.premunge.gz'\n",
    "df = pd.read_csv(file_in, sep='\\t')\n",
    "print(len(df))\n",
    "df.head(3)"
   ],
   "metadata": {
    "collapsed": false,
    "pycharm": {
     "name": "#%%\n"
    }
   }
  },
  {
   "cell_type": "code",
   "execution_count": null,
   "outputs": [],
   "source": [
    "df = df[df.snpid.isin(hm3_without6.SNP)]\n",
    "print(len(df))\n",
    "df.to_csv(file_out, sep='\\t', compression='gzip', index=None)"
   ],
   "metadata": {
    "collapsed": false,
    "pycharm": {
     "name": "#%%\n"
    }
   }
  },
  {
   "cell_type": "code",
   "execution_count": null,
   "outputs": [],
   "source": [
    "res_without6 = [\n",
    "    'data/T1D_STRICT.sumstats.gz  data/M13_RHEUMA.sumstats.gz 0.5217  0.1173 4.4488  8.6334e-06   0.815     0.2718  1.1445     0.0642    0.173       0.0663',\n",
    "    'data/T1D_STRICT.sumstats.gz  data/L12_DERMATHERP.sumstats.gz  0.4335  0.312  1.3895  0.1647   0.001     0.0012  1.0086     0.0073    0.0032       0.0051',\n",
    "    'data/T1D_STRICT.sumstats.gz  data/AUTOIMMUNE_HYPERTHYROIDISM.sumstats.gz  0.4749  0.0929  5.1124  3.1812e-07  0.0047     0.0009  1.0076     0.0071    0.0024       0.0064',\n",
    "    'data/T1D_STRICT.sumstats.gz  data/D3_ANAEMIA_B12_DEF.sumstats.gz  0.5353  0.0958  5.5863  2.3189e-08   0.004     0.0008  1.0294     0.0078    0.0111       0.0075',\n",
    "    'data/T1D_STRICT.sumstats.gz  data/K11_COELIAC.sumstats.gz 0.252  0.0729 3.4578  0.0005  0.2432     0.0483  1.0626     0.0087   0.1115       0.0067',\n",
    "    'data/T1D_STRICT.sumstats.gz  data/E4_HYTHY_AI_STRICT.sumstats.gz  0.4592  0.0435  10.5483  5.1703e-26  0.0626     0.0072  1.1368     0.0286    0.0258       0.0119'\n",
    "]\n",
    "stat_df_without6 = pd.DataFrame(columns=header2, dtype=object)\n",
    "for i in res_without6:\n",
    "    stat_df_without6 = stat_df_without6.append(pd.Series(findStats(i)), ignore_index=True)\n",
    "    \n",
    "stat_compare = stat_df_without6[['ep1', 'ep2', 'rg', 'p']].rename(columns={'rg':'rg_w/o6', 'p':'p_w/o6'})\n",
    "stat_compare = stat_compare.merge(stat_df[['ep2','rg','p']].rename(columns={'rg':'rg_w6', 'p':'p_w6'}), 'left', on='ep2')\n",
    "stat_compare = stat_compare[['ep1', 'ep2', 'rg_w/o6', 'rg_w6', 'p_w/o6', 'p_w6']]"
   ],
   "metadata": {
    "collapsed": false,
    "pycharm": {
     "name": "#%%\n"
    }
   }
  },
  {
   "cell_type": "code",
   "execution_count": null,
   "outputs": [],
   "source": [
    "stat_compare"
   ],
   "metadata": {
    "collapsed": false,
    "pycharm": {
     "name": "#%%\n"
    }
   }
  },
  {
   "cell_type": "markdown",
   "source": [
    "## 4. convert h2 from observed scale to liability scale\n",
    "- https://gist.github.com/nievergeltlab/fb8a20feded72030907a9b4e81d1c6ea\n",
    "- https://www.sciencedirect.com/science/article/pii/S0002929711000206?via%3Dihub"
   ],
   "metadata": {
    "collapsed": false
   }
  },
  {
   "cell_type": "code",
   "execution_count": null,
   "outputs": [],
   "source": [
    "# Method 1:\n",
    "import json\n",
    "with open('/Users/feiwang/Documents/Projects/stats__2021-03-25.json') as f:\n",
    "    stats = json.load(f)\n",
    "stat_df['prevalence'] = [stats['stats'][i]['prevalence_all'] for i in stat_df.ep2]"
   ],
   "metadata": {
    "collapsed": false,
    "pycharm": {
     "name": "#%%\n"
    }
   }
  },
  {
   "cell_type": "code",
   "execution_count": null,
   "outputs": [],
   "source": [
    "# prevalence of T1D in FinRegistry\n",
    "stats['stats']['T1D_STRICT']['prevalence_all']"
   ],
   "metadata": {
    "collapsed": false,
    "pycharm": {
     "name": "#%%\n"
    }
   }
  },
  {
   "cell_type": "code",
   "execution_count": null,
   "outputs": [],
   "source": [
    "# Method 2:\n",
    "stats = pd.read_excel(res_dir+'summary_of_ADs.xlsx', sheet_name='summary')[['Endpoint', 'Prevalence', 'case', 'control']]\n",
    "stat_df = stat_df.merge(stats.rename(columns={'Endpoint':'ep2', 'Prevalence':'prevalence'}), 'left', on='ep2') \n",
    "stat_df['prevalence'] = stat_df['prevalence']*0.01"
   ],
   "metadata": {
    "collapsed": false,
    "pycharm": {
     "name": "#%%\n"
    }
   }
  },
  {
   "cell_type": "markdown",
   "source": [
    "h2_liab <- h2 * K^2 * ( 1 - K)^2 / P / (1-P) / zv^2\n",
    "\n",
    "var_h2_liab <- ( seh2 * K^2 * ( 1 - K)^2 / P / (1-P) / zv^2) ^2"
   ],
   "metadata": {
    "collapsed": false
   }
  },
  {
   "cell_type": "code",
   "execution_count": null,
   "outputs": [],
   "source": [
    "stat_df['z_pdf'] = norm.pdf(norm.ppf(1-stat_df['prevalence']))\n",
    "stat_df['proportion'] = stat_df.case / stat_df.control\n",
    "stat_df['h2_lia'] = stat_df.h2_obs*(stat_df.prevalence**2)*(1-stat_df.prevalence)**2/stat_df.proportion/(1-stat_df.proportion)/(stat_df.z_pdf**2)\n",
    "stat_df['se_lia'] = stat_df.h2_obs_se*(stat_df.prevalence**2)*(1-stat_df.prevalence)**2/stat_df.proportion/(1-stat_df.proportion)/(stat_df.z_pdf**2)"
   ],
   "metadata": {
    "collapsed": false,
    "pycharm": {
     "name": "#%%\n"
    }
   }
  },
  {
   "cell_type": "code",
   "execution_count": null,
   "outputs": [],
   "source": [
    "from scipy.stats import chi2\n",
    "chi2.cdf(1-(0.021359**2)/(0.046990**2), 1)"
   ],
   "metadata": {
    "collapsed": false,
    "pycharm": {
     "name": "#%%\n"
    }
   }
  },
  {
   "cell_type": "code",
   "execution_count": null,
   "outputs": [],
   "source": [
    "stat_df['rg_025'] = stat_df.rg - 1.96*stat_df.se\n",
    "stat_df['rg_975'] = stat_df.rg + 1.96*stat_df.se"
   ],
   "metadata": {
    "collapsed": false,
    "pycharm": {
     "name": "#%%\n"
    }
   }
  },
  {
   "cell_type": "code",
   "execution_count": null,
   "outputs": [],
   "source": [
    "stat_df.sort_values('ep2')"
   ],
   "metadata": {
    "collapsed": false,
    "pycharm": {
     "name": "#%%\n"
    }
   }
  }
 ],
 "metadata": {
  "kernelspec": {
   "display_name": "Python 3 (ipykernel)",
   "language": "python",
   "name": "python3"
  },
  "language_info": {
   "codemirror_mode": {
    "name": "ipython",
    "version": 3
   },
   "file_extension": ".py",
   "mimetype": "text/x-python",
   "name": "python",
   "nbconvert_exporter": "python",
   "pygments_lexer": "ipython3",
   "version": "3.9.12"
  }
 },
 "nbformat": 4,
 "nbformat_minor": 5
}