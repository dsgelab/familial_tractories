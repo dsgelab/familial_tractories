#%%

import pandas as pd
import numpy as np
import matplotlib.pyplot as plt
from basic_tools import eps_dict
from matplotlib.ticker import ScalarFormatter
from matplotlib.lines import Line2D
import warnings
warnings.filterwarnings('ignore')

#%%

# OUTCOME = 'T1D_EARLY'
OUTCOME = 'T1D_STRICT'
res_dir = '/Users/feiwang/Documents/Materials/t1d/'
date = '20240312'

#%%

eps = ['CHIRBIL_PRIM','D3_AIHA_OTHER','D3_ALLERGPURPURA','D3_ANAEMIA_B12_DEF','D3_ITP','D3_SARCOIDOSIS','E4_ADDISON','E4_GRAVES_STRICT',
       'E4_HYTHY_AI_STRICT','G6_GUILBAR','G6_MS','G6_MYASTHENIA','K11_COELIAC','K11_IBD','L12_ALOPECAREATA','L12_PSORIASIS',
       'L12_VITILIGO','M13_ANKYLOSPON','M13_MCTD','M13_RHEUMA','M13_SJOGREN','M13_SYSTSLCE','M13_WEGENER','N14_IGA_NEPHROPATHY','SLE_FG',
       'T1D_STRICT'] #'T1D_EARLY'

#%%

eps_dict = {
    # 'T1D_EARLY':'Type 1 diabetes',
    'T1D_STRICT':'Type 1 diabetes',
    'E4_ADDISON':'Adrenocortical insufficiency',
    'E4_GRAVES_STRICT':'Autoimmune hyperthyroidism',
    'E4_HYTHY_AI_STRICT':'Autoimmune hypothyroidism',
    'D3_AIHA_OTHER':'Autoimmune hemolytic anemia',
    'D3_ALLERGPURPURA':'Allergic purpura',
    'D3_ANAEMIA_B12_DEF':'Vitamin B12 deficiency anaemia',
    'D3_ITP':'Idiopathic thrombocytopenic purpura',
    'D3_SARCOIDOSIS': 'Sarcoidosis',
    'CHIRBIL_PRIM':'Primary biliary cholangitis',
    'K11_COELIAC':'Coeliac disease',
    'K11_IBD':'Inflammatory bowel disease',
    'N14_IGA_NEPHROPATHY':'IgA nephropathy',
    'M13_ANKYLOSPON': 'Ankylosing spondylitis',
    'M13_MCTD':'Mixed connective tissue disease',
    'M13_RHEUMA':'Rheumatoid arthritis',
    'M13_SJOGREN':'Sjögren syndrome',
    'M13_SYSTSLCE':'Systemic sclerosis',
    'M13_WEGENER':'Wegener granulomatosis',
    'SLE_FG':'Systemic lupus erythematosus',
    'G6_GUILBAR':'Guillain-Barre syndrome',
    'G6_MS':'Multiple Sclerosis',
    'G6_MYASTHENIA':'Myasthenia gravis',
    'L12_ALOPECAREATA':'Alopecia areata',
    'L12_PSORIASIS':'Psoriasis',
    'L12_VITILIGO':'Vitiligo',
}

#%% md

## 5. Visualize the final results
### plot figure 2

#%%

def plot_odds_ratio(df, note_who, outcome='T1D_STRICT', plt_len=15):
    """
    :param results: a DataFrame of summary statistics
    :param outcome: a string which indicates the outcome disease name
    :return: a odds ratio plot of all the diseases in the list
    """
    plt.figure(figsize=(plt_len, 4))
    plt.box(False)
    plt.grid()
    sig_eps = []
    for i, row in df.iterrows():
        alpha = 1 if row.or_p <= 0.05 / len(df) else 0.12
        if alpha == 1:
            sig_eps.append(row.endpoint)
        plt.plot((i, i), (row.or_025, row.or_975), color='green', alpha=alpha)
        plt.plot(i, row.or_, 'd', color='green', alpha=alpha)

    plt.xticks(range(len(df)), [eps_dict[i] for i in df.endpoint.tolist()], rotation=90)

    plt.yscale('log')
    # plt.yticks([1, 2, 3, 7, 11, 15,16])
    plt.yticks([0.7,1, 2, 3, 5,7,9])
    ax = plt.gca()
    ax.get_yaxis().set_major_formatter(ScalarFormatter())

    # plt.ylabel('Odds Ratio (95% CI)', size=12)
    plt.ylabel('OR for parental AIDs – T1D', size=12)
    # plt.ylabel('OR for association with T1D in offspring', size=12)
    plt.axhline(y=1.0, color='black', linestyle='--', linewidth=1)
    # plt.axhline(y=3.0, color='black', linestyle='--', linewidth=1, alpha=0.1)
    # plt.axhline(y=7.0, color='black', linestyle='--', linewidth=1, alpha=0.1)
    # plt.axhline(y=15.0, color='black', linestyle='--', linewidth=1, alpha=0.1)

    plt.axhline(y=3.0, color='black', linestyle='--', linewidth=1, alpha=0.1)
    plt.axhline(y=5.0, color='black', linestyle='--', linewidth=1, alpha=0.1)
    plt.axhline(y=7.0, color='black', linestyle='--', linewidth=1, alpha=0.1)
    plt.axhline(y=9.0, color='black', linestyle='--', linewidth=1, alpha=0.1)
    # plt.axhline(y=0.7, color='black', linestyle='--', linewidth=1, alpha=0.1)
    plt.grid()
    plt.savefig('res_registry_upper.svg')
    plt.show()
    return sig_eps

#%%

res = pd.read_excel(res_dir+'summary_of_ADs.xlsx', sheet_name='res_20240326')
eps_sig = plot_odds_ratio(res, ['all', 'parent'], plt_len=10)

#%% md

choose colors via https://htmlcolorcodes.com/

#%%

or_res = res[res.endpoint.isin(eps)]
registry_n_cases = or_res

plt.figure(figsize=(10,1))
plt.box(False)
plt.grid()
alphas = ['green' if i in eps_sig else '#E0EFE0' for i in registry_n_cases.endpoint]
plt.bar(registry_n_cases.endpoint.tolist(), registry_n_cases.n_cases.tolist(), color=alphas, width = 0.5)
plt.xticks(range(len(registry_n_cases)), [eps_dict[i] for i in registry_n_cases.endpoint], rotation=90)
plt.ylabel('# cases', size=12)
plt.yscale('log')
plt.yticks([10, 100, 1000,10000])
ax = plt.gca()
ax.get_yaxis().set_major_formatter(ScalarFormatter())
plt.grid()
plt.savefig('res_registry_lower.svg')
plt.show()

#%% md

### figures after specifying sex of parents / offspring

#%%

def plot_association_2_groups(df, ylabel, colors, outcome=OUTCOME, plt_len=8):
    """
    :param df - a DataFrame of summary statistics
    :param outcome - a string which indicates the outcome disease name
    :return - a beta plot of all the diseases listed in df
    """
    plt.figure(figsize=(plt_len, 5))
    plt.box(False)
    plt.grid()
    width = 0.12
    for i, row in df.iterrows():
        alpha = 1 if row.pval <= 0.05 else 0.12
        if row.pa == 'fa':
            plt.plot((i-width, i-width), (row.or_025, row.or_975), color=colors[0], alpha=alpha)
            plt.plot(i-width, np.exp(row.coef), '^', color=colors[0], alpha=alpha)
        if row.pa == 'mo':
            plt.plot((i+width, i+width), (row.or_025, row.or_975), color=colors[1], alpha=alpha)
            plt.plot(i+width, np.exp(row.coef), 'o', color=colors[1], alpha=alpha)
    plt.xticks(range(len(df.endpoint.unique())), [eps_dict[i] for i in df.endpoint.unique().tolist()], rotation=90)
    plt.yscale('log')
    plt.yticks(range(1,21))
    ax = plt.gca()
    ax.get_yaxis().set_major_formatter(ScalarFormatter())

    # plt.ylabel('Odds Ratio (95% CI)', size=12)
    plt.axhline(y=1.0, color='black', linestyle='--', linewidth=1)
    plt.axhline(y=3.0, color='black', linestyle='--', linewidth=1, alpha=0.1)
    plt.axhline(y=5.0, color='black', linestyle='--', linewidth=1, alpha=0.1)
    plt.axhline(y=12.0, color='black', linestyle='--', linewidth=1, alpha=0.1)
    plt.axhline(y=20.0, color='black', linestyle='--', linewidth=1, alpha=0.1)

    ax = plt.gca()
    legend_elements = [Line2D([0], [0], marker='^', label='father - child', color=colors[0], markerfacecolor=colors[0], markersize=6),
                       Line2D([0], [0], marker='o', label='mother - child', color=colors[1], markerfacecolor=colors[1], markersize=6)]
    box = ax.get_position()
    ax.set_position([box.x0, box.y0 + box.height * 0.1, box.width, box.height * 0.9])
    # Put a legend below current axis
    ax.legend(handles=legend_elements, loc='upper center', bbox_to_anchor=(0.5, -0.7), ncol=2, frameon=False)
    plt.ylabel(ylabel, size=12)
    plt.grid()
    plt.savefig('res_famo.svg')
    plt.show()

res_famo = pd.read_excel(res_dir+'manuscript/results_20231015.xlsx', sheet_name='registry_famo')
res_famo.index = res_famo.code
plot_association_2_groups(res_famo, 'OR for association with T1D in offspring', ['green','green'], plt_len=6)

#%%

def plot_association_2_groups(df, ylabel, colors, outcome=OUTCOME, plt_len=8):
    """
    :param df - a DataFrame of summary statistics
    :param outcome - a string which indicates the outcome disease name
    :return - a beta plot of all the diseases listed in df
    """
    plt.figure(figsize=(plt_len, 5))
    plt.box(False)
    plt.grid()
    width = 0.12
    for i, row in df.iterrows():
        alpha = 1 if row.pval <= 0.05 else 0.12
        if row.note == 'son':
            plt.plot((i-width, i-width), (row.or_025, row.or_975), color=colors[0], alpha=alpha)
            plt.plot(i-width, np.exp(row.coef), 'd', color=colors[0], alpha=alpha)
        if row.note == 'daughter':
            plt.plot((i+width, i+width), (row.or_025, row.or_975), color=colors[1], alpha=alpha)
            plt.plot(i+width, np.exp(row.coef), 'd', color=colors[1], alpha=alpha)
    plt.xticks(range(len(df.endpoint.unique())), [eps_dict[i] for i in df.endpoint.unique().tolist()], rotation=90)
    plt.yscale('log')
    plt.yticks(range(1,22))
    ax = plt.gca()
    ax.get_yaxis().set_major_formatter(ScalarFormatter())

    # plt.ylabel('Odds Ratio (95% CI)', size=12)
    plt.axhline(y=1.0, color='black', linestyle='--', linewidth=1)
    plt.axhline(y=3.0, color='black', linestyle='--', linewidth=1, alpha=0.1)
    plt.axhline(y=5.0, color='black', linestyle='--', linewidth=1, alpha=0.1)
    plt.axhline(y=12.0, color='black', linestyle='--', linewidth=1, alpha=0.1)
    plt.axhline(y=20.0, color='black', linestyle='--', linewidth=1, alpha=0.1)

    ax = plt.gca()
    legend_elements = [Line2D([0], [0], marker='d', label='parent - son', color=colors[0], markerfacecolor=colors[0], markersize=6),
                       Line2D([0], [0], marker='d', label='parent - daughter', color=colors[1], markerfacecolor=colors[1], markersize=6)]
    box = ax.get_position()
    ax.set_position([box.x0, box.y0 + box.height * 0.1, box.width, box.height * 0.9])
    # Put a legend below current axis
    ax.legend(handles=legend_elements, loc='upper center', bbox_to_anchor=(0.5, -0.7), ncol=2, frameon=False)
    plt.ylabel(ylabel, size=12)
    plt.grid()
    plt.savefig('res_bogi.svg')
    plt.show()

res_bogi = pd.read_excel(res_dir+'manuscript/results_20231015.xlsx', sheet_name='registry_bogi')
res_bogi.index = res_bogi.code
plot_association_2_groups(res_bogi, 'OR for association with T1D in offspring', ['#87B993', '#A882C5'], plt_len=6)

#%% md

### plot figure 3 - ldsc

#%%

def plot_association(df, sig_eps, ylabel, color, hline, outcome='T1D_STRICT', plt_len=15, log_scale={}):
    """
    :param results: a DataFrame of summary statistics
    :param outcome: a string which indicates the outcome disease name
    :return: a odds ratio plot of all the diseases in the list
    """
    # df = df.sort_values(by='endpoint')
    df.index = range(len(df))
    plt.figure(figsize=(plt_len, 3.5))
    plt.box(False)
    plt.grid()
    eps_sig = []
    for i, row in df.iterrows():
        if row.pval <= 0.05 / len(df):
            alpha = 1
            eps_sig.append(row.endpoint)
        else:
            alpha = 0.12
        plt.plot((i, i), (row.hr_025, row.hr_975), color=color, alpha=alpha)
        plt.plot(i, row.hr, 's', color=color, alpha=alpha)
        # if row.endpoint in sig_eps:
        #     plt.annotate('$', (i+.1, row.hr_975+.01), size=12, color='green')

    plt.xticks(range(len(df)), [eps_dict[i] for i in df.endpoint.tolist()], rotation=90)
    plt.ylabel(ylabel, size=12)
    plt.axhline(y=hline, color='black', linestyle='--', linewidth=1)

    plt.yticks([-0.75,-0.5,-0.25, 0.00, 0.25,0.5,0.75])
    if log_scale:
        plt.yscale('log')
        plt.yticks(log_scale['scales'])
        ax = plt.gca()
        ax.get_yaxis().set_major_formatter(ScalarFormatter())
        for each in log_scale['lines']:
            plt.axhline(y=each, color='black', linestyle='--', linewidth=1, alpha=0.08)

    plt.grid()
    plt.savefig('res_ldsc_upper.svg')
    plt.show()
    return eps_sig

#%%

rg_res = res[['endpoint','rg','rg_p','rg_025','rg_975']]
rg_res.columns = ['endpoint','hr','pval','hr_025','hr_975']
rg_res = rg_res.iloc[1:,:]
eps_sig_rg = plot_association(rg_res, eps_sig, 'Genetic Correlation (95% CI)', '#ff7f2a', 0, plt_len=10)

#%%

ldsc_n_cases = pd.read_excel(res_dir+'summary_of_ADs.xlsx', sheet_name='summary_20230904')[['full name','European cases']]
ldsc_n_cases = ldsc_n_cases.rename(columns={'full name':'endpoint','European cases':'n_cases'})
ldsc_n_cases = ldsc_n_cases[ldsc_n_cases.endpoint != 'Type 1 diabetes']

plt.figure(figsize=(10,1))
plt.box(False)
plt.grid()
alphas = ['#ff7f2a' if i in [eps_dict[j] for j in eps_sig_rg] else '#fff2e9' for i in ldsc_n_cases.endpoint]
plt.bar(ldsc_n_cases.endpoint.tolist(), ldsc_n_cases.n_cases.tolist(), color=alphas, width = 0.5)
plt.xticks(rotation=90)
plt.ylabel('# cases', size=12)
plt.yscale('log')
plt.yticks([100, 1000,10000, 100000])
ax = plt.gca()
ax.get_yaxis().set_major_formatter(ScalarFormatter())
plt.grid()
plt.savefig('res_ldsc_lower.svg')
plt.show()

#%%

def plot_association(df, sig_eps, ylabel, color, hline, outcome='T1D_STRICT', plt_len=15):
    """
    :param df: a DataFrame of summary statistics
    :param plt_len: an integer which indicates the length of plot
    :param outcome: a string which indicates the outcome disease name
    :return: a odds ratio plot of all the diseases in the list
    """
    # df.index = range(len(df))
    plt.figure(figsize=(plt_len, 3.4))
    plt.box(False)
    plt.grid()
    for i, row in df.iterrows():
        if row.r0 >= 0.02:
            alpha = 1 if row.b_pval <= 0.05/len(df[df.r0 >= 0.02]) else 0.12
            plt.plot((i, i), (row.or_025_hla, row.or_975_hla), color=color, alpha=alpha)
            plt.plot(i, row.or_hla, 's', color=color, alpha=alpha)
            # if row.endpoint in sig_eps:
            #     plt.annotate('$', (i+.1, row.b_975+.015), size=12, color='green')
        else:
            plt.annotate('x', (i, 0.98), size=12, color=color, alpha=1)

    plt.xticks(range(len(df)), [eps_dict[i] for i in df.endpoint.tolist()], rotation=90)
    plt.ylabel(ylabel, size=12)
    # plt.yticks([0.6, 0.8, 1.0, 1.2, 1.4, 1.6, 1.8, 2.0])
    plt.yticks([0.6, 1.0, 1.4, 1.8, 2.2, 2.6])
    plt.axhline(y=hline, color='black', linestyle='--', linewidth=1)

    plt.grid()
    plt.savefig('res_hla_prs_upper'+date+'.svg')
    plt.show()

#%% md

### plot figure 3 - hla prs

#%%

def plot_association_hla(df, sig_eps, ylabel, color, hline, outcome='T1D_STRICT', plt_len=15):
    """
    :param df: a DataFrame of summary statistics
    :param plt_len: an integer which indicates the length of plot
    :param outcome: a string which indicates the outcome disease name
    :return: a odds ratio plot of all the diseases in the list
    """
    # df.index = range(len(df))
    plt.figure(figsize=(plt_len, 3.4))
    plt.box(False)
    plt.grid()
    for i, row in df.iterrows():
        if row.r0 >= 0.02:
            alpha = 1 if row.b_pval <= 0.05/len(df[df.r0 >= 0.02]) else 0.12
            plt.plot((i, i), (row.or_025_hla, row.or_975_hla), color=color, alpha=alpha)
            plt.plot(i, row.or_hla, 's', color=color, alpha=alpha)
            # if row.endpoint in sig_eps:
            #     plt.annotate('$', (i+.1, row.b_975+.015), size=12, color='green')
        else:
            plt.annotate('x', (i, 0.98), size=12, color=color, alpha=1)

    plt.xticks(range(len(df)), [eps_dict[i] for i in df.endpoint.tolist()], rotation=90)
    plt.ylabel(ylabel, size=12)
    # plt.yticks([0.6, 0.8, 1.0, 1.2, 1.4, 1.6, 1.8, 2.0])
    plt.yticks([0.6, 1.0, 1.4, 1.8, 2.2, 2.6])
    plt.axhline(y=hline, color='black', linestyle='--', linewidth=1)

    plt.grid()
    plt.savefig('res_hla_prs_upper'+date+'.svg')
    plt.show()

#%%

hla_res = res.iloc[1:,]
hla_res.index = hla_res.index-1
plot_association_hla(hla_res, eps_sig, 'OR for association with T1D (95%CI)', '#1576B6', 1, plt_len=10)

#%%

prs_n_cases = res.iloc[1:,][['endpoint', 'n_cases', 'b_pval', 'remain']]

plt.figure(figsize=(10,1))
plt.box(False)
plt.grid()
alphas = ['#E2EEF6' if i !=1 else '#1576B6' for i in prs_n_cases.remain]
plt.bar(prs_n_cases.endpoint.tolist(), prs_n_cases.n_cases.tolist(), color=alphas, width = 0.5)
plt.xticks(range(len(prs_n_cases)), [eps_dict[i] for i in prs_n_cases.endpoint], rotation=90)
plt.ylabel('# cases', size=12)
plt.yscale('log')
plt.yticks([50, 500, 5000])
ax = plt.gca()
ax.get_yaxis().set_major_formatter(ScalarFormatter())
plt.grid()
plt.savefig('res_hla_prs_lower.svg')
plt.show()

#%% md

### plot figure 4 - ptdt

#%%

colors = ['crimson','silver']
width = 0.12
ylabel = 'Child - mid-parent PRS'

#%%

ptdt = pd.read_excel(res_dir+'manuscript/results_20231210.xlsx', sheet_name='ptdt')
eps_final = ['L12_PSORIASIS','D3_SARCOIDOSIS','K11_COELIAC','M13_RHEUMA',
             'SLE_FG','G6_MS','E4_HYTHY_AI_STRICT','T1D_STRICT']
eps_pos = {
    'T1D_STRICT':(0,0),'E4_HYTHY_AI_STRICT':(0,1),'M13_RHEUMA':(0,2),'L12_PSORIASIS':(0,3),
    'K11_COELIAC':(1,0),'SLE_FG':(1,1), 'D3_SARCOIDOSIS':(1,2),'G6_MS':(1,3),
}
fig, ax = plt.subplots(2,4,figsize=(12, 7))
# set the spacing between subplots
fig.tight_layout(pad=4.5)
for ep in eps_final:
    data = ptdt[ptdt.ep == ep]
    ax[eps_pos[ep]].set_frame_on(False)
    ax[eps_pos[ep]].grid()

    for _,row in data.iterrows():
        i = 0 if row.region == 'hla' else 1
        c = colors[0] if row.sib == 'af' else colors[1]
        width = -0.12 if row.sib == 'af' else 0.12
        term = 'Affected=' if row.sib == 'af' else 'Unaffected='

        ax[eps_pos[ep]].plot((i+width, i+width), (row.lower2, row.upper2), color=c)
        ax[eps_pos[ep]].plot(i+width, row.mean2, 'd', color=c, label=term+str(row.sib_num))
        ax[eps_pos[ep]].annotate(row.p_note2, (i+width+.05, row.upper2), size=9, color='black')

    ax[eps_pos[ep]].set_xticklabels(['','HLA','non-HLA'])#, rotation=90)
    ax[eps_pos[ep]].set_title(eps_dict[ep], size=11)
    ax[eps_pos[ep]].set_xlim([-0.6,1.6])
    ax[eps_pos[ep]].axhline(y=0.0, color='black', linestyle='--', linewidth=1)
    ax[eps_pos[ep]].grid()
    handles, labels = ax[eps_pos[ep]].get_legend_handles_labels()
    by_label = dict(zip(labels, handles))
    ax[eps_pos[ep]].legend(by_label.values(), by_label.keys(), bbox_to_anchor=(1.2,-0.12), ncol=2, fontsize=9)

plt.setp(ax[:,0], ylabel=ylabel)
plt.savefig('res_ptdt_sd_20231216.svg')
plt.show()

#%% md

### ptdt figure for comparisons between Full-PGS and PRS-CS

#%%

ptdt = pd.read_excel(res_dir+'manuscript/results_20231210.xlsx', sheet_name='ptdt_full')
fig, ax = plt.subplots(4,4,figsize=(12, 14))
# set the spacing between subplots
fig.tight_layout(pad=4.5)
for ep in eps_final:
    data = ptdt[ptdt.ep == ep]
    ax[eps_pos[ep]].set_frame_on(False)
    ax[eps_pos[ep]].grid()

    for _,row in data.iterrows():
        i = 0 if row.region == 'improved' else 1
        c = colors[0] if row.sib == 'af' else colors[1]
        width = -0.12 if row.sib == 'af' else 0.12
        term = 'Affected=' if row.sib == 'af' else 'Unaffected='

        ax[eps_pos[ep]].plot((i+width, i+width), (row.lower2, row.upper2), color=c)
        ax[eps_pos[ep]].plot(i+width, row.mean2, 's', color=c, label=term+str(row.sib_num))
        ax[eps_pos[ep]].annotate(row.p_note2, (i+width+.05, row.upper2), size=9, color='black')

    ax[eps_pos[ep]].set_xticklabels(['','Full-PRS','PRS-CS'])#, rotation=90)
    ax[eps_pos[ep]].set_title(eps_dict[ep], size=11)
    ax[eps_pos[ep]].set_xlim([-0.6,1.6])
    ax[eps_pos[ep]].axhline(y=0.0, color='black', linestyle='--', linewidth=1)
    ax[eps_pos[ep]].grid()
    handles, labels = ax[eps_pos[ep]].get_legend_handles_labels()
    by_label = dict(zip(labels, handles))
    ax[eps_pos[ep]].legend(by_label.values(), by_label.keys(), bbox_to_anchor=(1.2,-0.12), ncol=2, fontsize=9)

plt.setp(ax[:,0], ylabel=ylabel)
plt.savefig('res_ptdt_sd_full_20231216.svg')
plt.show()

#%% md

### plot figure 3 - hla haplotype

#%%

results = pd.read_csv('hap_res.csv')
results = results[~results.hap.isna()]
plot_len=13
res_index = np.array(['DRB1*04:01 DQA1*03:01 DQB1*03:02',
       'DRB1*03:01 DQA1*05:01 DQB1*02:01','DRB1*04:04 DQA1*03:01 DQB1*03:02',
       'DRB1*01:01 DQA1*01:01 DQB1*05:01',
       'DRB1*13:01 DQA1*01:03 DQB1*06:03', 'DRB1*15:01 DQA1*01:02 DQB1*06:02'])
# results = results[results.index.isin(res_index)]
ep_gene_mat_pval = pd.pivot_table(results, values='pval', index=['hap'], columns=['endpoint'])

#%%

mid_thredshold = 0.0001
ep_gene_mat_sig = np.select([(ep_gene_mat_pval > 0.05),
                                         ((ep_gene_mat_pval <= 0.05)&(ep_gene_mat_pval > mid_thredshold)),
                                         (ep_gene_mat_pval <= mid_thredshold)
                                ],['','*','**'])

#%%

import seaborn as sns

#%%

ep_gene_mat_sig = pd.DataFrame(ep_gene_mat_sig, columns=ep_gene_mat_pval.columns, index=ep_gene_mat_pval.index)
ep_gene_mat_z = pd.pivot_table(results, values='z', index=['hap'], columns=['endpoint'])

# ep_gene_mat_pval = ep_gene_mat_pval.reindex(res.index.unique().tolist())
ep_gene_mat_pval = ep_gene_mat_pval.reindex(res_index)
ep_gene_mat_sig = ep_gene_mat_sig.reindex(res_index)
ep_gene_mat_z = ep_gene_mat_z.reindex(res_index)

ep_gene_mat_pval = ep_gene_mat_pval[list(eps_dict.keys())]
ep_gene_mat_sig = ep_gene_mat_sig[list(eps_dict.keys())]
ep_gene_mat_z = ep_gene_mat_z[list(eps_dict.keys())]
# convert endpoint codes to disease names
ep_gene_mat_z.columns = list(eps_dict.values())

# create a heatmap for the results
# sns_plot =
sns.set(rc={'figure.figsize': (plot_len, 0.4*len(ep_gene_mat_z))})
# ax = sns.heatmap(ep_gene_mat_z, linewidths=.5, center=0, annot=ep_gene_mat_sig, annot_kws={'rotation': 90, 'ha':'left'}, cmap='RdBu', fmt='')
ax = sns.heatmap(ep_gene_mat_z, linewidths=.5, center=0, annot=ep_gene_mat_sig, cmap='RdBu', fmt='')
ax.set_facecolor('#f7f7f7')
ax.collections[0].colorbar.set_label('z score')
plt.savefig('res_hla_hap_'+date+'.svg')