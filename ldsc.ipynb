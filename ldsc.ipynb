{
 "cells": [
  {
   "cell_type": "code",
   "execution_count": 42,
   "id": "845c87c2",
   "metadata": {
    "collapsed": false,
    "jupyter": {
     "outputs_hidden": false
    },
    "pycharm": {
     "name": "#%%\n"
    }
   },
   "outputs": [],
   "source": [
    "import re\n",
    "import os\n",
    "import pandas as pd\n",
    "import numpy as np\n",
    "import matplotlib as mpl\n",
    "import matplotlib.pyplot as plt\n",
    "from scipy.stats import norm\n",
    "from statsmodels.stats import multitest"
   ]
  },
  {
   "cell_type": "code",
   "execution_count": 71,
   "id": "bccbb3fb-204e-4f44-af15-0104d86bb4d0",
   "metadata": {},
   "outputs": [],
   "source": [
    "data_dir = os. getcwd()+'/data/'\n",
    "# res_dir = os. getcwd()+'/res/'\n",
    "res_dir = '/Users/feiwang/Documents/Materials/familial_trajectory/'\n",
    "header = ['ep1', 'ep2', 'rg', 'se','z', 'p', 'h2_obs', 'h2_obs_se', 'h2_int', 'h2_int_se', 'gcov_int', 'gcov_int_se']"
   ]
  },
  {
   "cell_type": "markdown",
   "id": "d99e67d5-d6ab-4c33-a2a7-4f02e2afaff1",
   "metadata": {},
   "source": [
    "## 1. Process data for LDSC"
   ]
  },
  {
   "cell_type": "markdown",
   "id": "46f2481f-3d15-491b-aa51-27652a9025ed",
   "metadata": {},
   "source": [
    "### if good summary stats can be found from GWAS Catalog:\n",
    "https://www.ebi.ac.uk/gwas/"
   ]
  },
  {
   "cell_type": "code",
   "execution_count": null,
   "id": "5cbc36fc",
   "metadata": {
    "collapsed": false,
    "jupyter": {
     "outputs_hidden": false
    },
    "pycharm": {
     "name": "#%%\n"
    }
   },
   "outputs": [],
   "source": [
    "# Choose the summary stats by the effect size. The bigger, the better.\n",
    "# formula: ((4 * n_cases * n_controls)/(n_cases + n_controls))\n",
    "\n",
    "ep = 'G6_MS'\n",
    "# 'T1D_STRICT', 'K11_COELIAC', 'SLE_FG', 'M13_RHEUMA', 'T2D', 'L12_VITILIGO'\n",
    "# 'G6_MYASTHENIA', 'J10_ASTHMA', 'G6_MS', 'L12_PSORIASIS'\n",
    "\n",
    "file_in = data_dir+ep+'.txt' # tsv txt\n",
    "if not os.path.isfile(file_in):\n",
    "    file_in = data_dir+ep+'.tsv'\n",
    "if not os.path.isfile(file_in):\n",
    "    file_in = data_dir+ep+'.csv'\n",
    "if not os.path.isfile(file_in):\n",
    "    print('Data cannot be found!')\n",
    "file_out = data_dir+ep+'.premunge.gz'\n",
    "df = pd.read_csv(file_in, sep='\\t')\n",
    "if len(df.columns) == 1:\n",
    "    df = pd.read_csv(file_in, sep=' ')\n",
    "if len(df.columns) == 1:\n",
    "    df = pd.read_csv(file_in)\n",
    "#     try:\n",
    "#         df = pd.read_csv(file_in, sep=' ')\n",
    "#     except pd.errors.ParserError:\n",
    "#         df = pd.read_csv(file_in)\n",
    "df = df.rename(columns={\n",
    "    'rsid': 'snpid', 'SNPID': 'snpid', 'variant_id': 'snpid', 'SNP': 'snpid',\n",
    "    'effect_allele': 'a1', 'A1': 'a1', 'A1_effect': 'a1',\n",
    "    'other_allele': 'a2', 'A2': 'a2', 'A2_other': 'a2',\n",
    "    'p': 'pval', 'P-val': 'pval', 'p_value': 'pval', 'P_EUR': 'pval',\n",
    "    'OR(A1)': 'or', 'odds_ratio': 'or',\n",
    "    'standard_error': 'se', 'se_EUR': 'se',\n",
    "    'beta_EUR': 'beta'\n",
    "})\n",
    "print(len(df))\n",
    "df.head(3)"
   ]
  },
  {
   "cell_type": "markdown",
   "id": "cd7b8693-575e-4dfb-af68-0c7267a21631",
   "metadata": {},
   "source": [
    "### if RSID is not in the summary stats:"
   ]
  },
  {
   "cell_type": "code",
   "execution_count": null,
   "id": "1e76028e-ddc1-4094-9063-a4cbf9f54a60",
   "metadata": {},
   "outputs": [],
   "source": [
    "Infile=\"L12_PSORIASIS.tsv\"\n",
    "OutFile=\"L12_PSORIASIS_TEST.tsv\"\n",
    "HM3ref=\"HM3Ref\"\n",
    "build=\"hg37\""
   ]
  },
  {
   "cell_type": "code",
   "execution_count": null,
   "id": "907f9918-6185-4ea1-8d54-b99de4af1045",
   "metadata": {},
   "outputs": [],
   "source": [
    "df = pd.read_table(Infile, low_memory=False)\n",
    "df['hg37'] = 'chr'+df.chromosome.astype(str)+':'+df.base_pair_location.astype(str)\n",
    "df['A1'] = df.effect_allele.str.upper()\n",
    "df['A2'] = df.other_allele.str.upper()\n",
    "Ref = pd.read_table(HM3ref)\n",
    "ref = Ref.rename(columns={'REF': 'A1', 'ALT': 'A2'})\n",
    "tmp1 = pd.merge(df, ref, how = 'inner', on = [build, 'A1', 'A2'])\n",
    "tmp1 = tmp1.drop(['hg36', 'hg37', 'hg38'], axis=1)\n",
    "ref = Ref.rename(columns={'REF': 'A2', 'ALT': 'A1'})\n",
    "tmp2 = pd.merge(df, ref, how = 'inner', on = [build, 'A1', 'A2'])\n",
    "tmp2 = tmp2.drop(['hg36', 'hg37', 'hg38'], axis=1)\n",
    "tmp = pd.concat([tmp1, tmp2])\n",
    "tmp.to_csv(OutFile, sep = '\\t', index = None)"
   ]
  },
  {
   "cell_type": "markdown",
   "id": "0e10848a-e0ec-43a2-8f39-a4506c450823",
   "metadata": {},
   "source": [
    "### if an endpoint has sub dataset for each chromosome:"
   ]
  },
  {
   "cell_type": "code",
   "execution_count": 72,
   "id": "d0a5859b-6c1a-4435-af8a-962be530c99a",
   "metadata": {},
   "outputs": [
    {
     "name": "stderr",
     "output_type": "stream",
     "text": [
      "100%|██████████| 22/22 [00:26<00:00,  1.21s/it]\n"
     ]
    }
   ],
   "source": [
    "df = pd.read_csv(data_dir+'/vitiligo/GWAS123chrXcmh.txt', sep='\\t')\n",
    "for i in tqdm.tqdm(range(1, 23)):\n",
    "    df_ = pd.read_csv(data_dir+'/vitiligo/GWAS123chr'+str(i)+'cmh.txt', sep='\\t')\n",
    "    df_ = df_.rename(columns={'CMH P':'P', 'ORX':'OR'})\n",
    "    df = pd.concat([df, df_], axis=0)\n",
    "df['snpid'] = df.SNP.str.lower()\n",
    "df = df.rename(columns={'A1': 'a1', 'A2': 'a2', 'P': 'p', 'OR': 'or', 'SE': 'se'})\n",
    "df = df[['a1', 'a2', 'p', 'or', 'se', 'snpid']]\n",
    "df.to_csv(data_dir+'/autoimmune_gwas_sumstats/L12_VITILIGO.txt', index=None)"
   ]
  },
  {
   "cell_type": "markdown",
   "id": "a7c32f4f-f2e9-49c3-bebc-98e1610b8cc5",
   "metadata": {},
   "source": [
    "### if the format of the summary stats has a problem:\n",
    "the number of the cols in some rows are larger than the number of the header"
   ]
  },
  {
   "cell_type": "code",
   "execution_count": null,
   "id": "59c4ee66",
   "metadata": {
    "collapsed": false,
    "jupyter": {
     "outputs_hidden": false
    },
    "pycharm": {
     "name": "#%%\n"
    }
   },
   "outputs": [],
   "source": [
    "# 'K11_IBD', 'K11_CROHN', 'M13_SJOGREN' finn, 'M13_SYSTSLCE' 格式, 'G6_MS'\n",
    "\n",
    "ep = 'K11_CROHN'\n",
    "file_in = data_dir+ep+'.txt'\n",
    "file_out = data_dir+ep+'.premunge.gz'\n",
    "matrix = []\n",
    "with open(file_in) as f:\n",
    "    for line in f:\n",
    "        row = line.split(' ')\n",
    "        if len(row) != 8:\n",
    "            row = row[:7] + [row[-1]]\n",
    "        matrix.append(row)\n",
    "matrix = np.array(matrix)\n",
    "df = pd.DataFrame(matrix[1:], columns=matrix[0])\n",
    "df['snpid'] = df['SNP\\n'].str[:-1]\n",
    "df = df.rename(columns={\n",
    "    'Allele1': 'a1',\n",
    "    'Allele2': 'a2',\n",
    "    'P.value': 'pval',\n",
    "    'Effect': 'beta'\n",
    "})\n",
    "df['beta'] = df.beta.astype(float)\n",
    "df['pval'] = df.pval.astype(float)\n",
    "print(len(df))\n",
    "df.head(3)\n"
   ]
  },
  {
   "cell_type": "code",
   "execution_count": null,
   "id": "9cae5c32",
   "metadata": {
    "collapsed": false,
    "jupyter": {
     "outputs_hidden": false
    },
    "pycharm": {
     "name": "#%%\n"
    }
   },
   "outputs": [],
   "source": [
    "# find out which paper using this data by searching the newly found loci in the paper\n",
    "rsid = 'rs80244186'\n",
    "a=df[df.snpid == rsid]\n",
    "print('or: ', round(np.exp(a.iloc[0,-1]), 2))\n",
    "print('p:  ', a.iloc[0,-2])"
   ]
  },
  {
   "cell_type": "markdown",
   "id": "79d23712",
   "metadata": {
    "pycharm": {
     "name": "#%% md\n"
    }
   },
   "source": [
    "### if summary stats can be find from Finngen results:\n",
    "1. to download data from Finngen + UKBB:\n",
    "- https://finngen.gitbook.io/finngen-analyst-handbook/finngen-data-specifics/green-library-data-aggregate-data/other-analyses-available/meta-analysis-finngen-ukbb-estbbuntitled\n",
    "- gsutil cp gs://finngen-production-library-green/finngen_R9/finngen_R9_analysis_data/ukbb_meta/meta/M13_SJOGREN_meta_out.tsv.gz /Users/feiwang/Documents/Materials/familial_trajectory/data"
   ]
  },
  {
   "cell_type": "code",
   "execution_count": 196,
   "id": "7c90d581",
   "metadata": {
    "collapsed": false,
    "jupyter": {
     "outputs_hidden": false
    },
    "pycharm": {
     "name": "#%%\n"
    }
   },
   "outputs": [
    {
     "name": "stdout",
     "output_type": "stream",
     "text": [
      "31609370\n"
     ]
    },
    {
     "data": {
      "text/html": [
       "<div>\n",
       "<style scoped>\n",
       "    .dataframe tbody tr th:only-of-type {\n",
       "        vertical-align: middle;\n",
       "    }\n",
       "\n",
       "    .dataframe tbody tr th {\n",
       "        vertical-align: top;\n",
       "    }\n",
       "\n",
       "    .dataframe thead th {\n",
       "        text-align: right;\n",
       "    }\n",
       "</style>\n",
       "<table border=\"1\" class=\"dataframe\">\n",
       "  <thead>\n",
       "    <tr style=\"text-align: right;\">\n",
       "      <th></th>\n",
       "      <th>#CHR</th>\n",
       "      <th>POS</th>\n",
       "      <th>a1</th>\n",
       "      <th>a2</th>\n",
       "      <th>SNP</th>\n",
       "      <th>FINNGEN_beta</th>\n",
       "      <th>FINNGEN_sebeta</th>\n",
       "      <th>FINNGEN_pval</th>\n",
       "      <th>FINNGEN_af_alt</th>\n",
       "      <th>FINNGEN_af_alt_cases</th>\n",
       "      <th>...</th>\n",
       "      <th>UKBB_sebeta</th>\n",
       "      <th>UKBB_pval</th>\n",
       "      <th>UKBB_af_alt</th>\n",
       "      <th>all_meta_N</th>\n",
       "      <th>beta</th>\n",
       "      <th>all_inv_var_meta_sebeta</th>\n",
       "      <th>pval</th>\n",
       "      <th>all_inv_var_meta_mlogp</th>\n",
       "      <th>all_inv_var_het_p</th>\n",
       "      <th>snpid</th>\n",
       "    </tr>\n",
       "  </thead>\n",
       "  <tbody>\n",
       "    <tr>\n",
       "      <th>0</th>\n",
       "      <td>1</td>\n",
       "      <td>11063</td>\n",
       "      <td>T</td>\n",
       "      <td>G</td>\n",
       "      <td>1:11063:T:G</td>\n",
       "      <td>NaN</td>\n",
       "      <td>NaN</td>\n",
       "      <td>NaN</td>\n",
       "      <td>NaN</td>\n",
       "      <td>NaN</td>\n",
       "      <td>...</td>\n",
       "      <td>36.00</td>\n",
       "      <td>0.752</td>\n",
       "      <td>0.000047</td>\n",
       "      <td>1</td>\n",
       "      <td>-11.300</td>\n",
       "      <td>36.000</td>\n",
       "      <td>0.752</td>\n",
       "      <td>0.124</td>\n",
       "      <td>NaN</td>\n",
       "      <td>rs561109771</td>\n",
       "    </tr>\n",
       "    <tr>\n",
       "      <th>1</th>\n",
       "      <td>1</td>\n",
       "      <td>13259</td>\n",
       "      <td>G</td>\n",
       "      <td>A</td>\n",
       "      <td>1:13259:G:A</td>\n",
       "      <td>NaN</td>\n",
       "      <td>NaN</td>\n",
       "      <td>NaN</td>\n",
       "      <td>NaN</td>\n",
       "      <td>NaN</td>\n",
       "      <td>...</td>\n",
       "      <td>1.77</td>\n",
       "      <td>0.364</td>\n",
       "      <td>0.000273</td>\n",
       "      <td>1</td>\n",
       "      <td>1.610</td>\n",
       "      <td>1.770</td>\n",
       "      <td>0.364</td>\n",
       "      <td>0.439</td>\n",
       "      <td>NaN</td>\n",
       "      <td>rs562993331</td>\n",
       "    </tr>\n",
       "    <tr>\n",
       "      <th>2</th>\n",
       "      <td>1</td>\n",
       "      <td>13668</td>\n",
       "      <td>G</td>\n",
       "      <td>A</td>\n",
       "      <td>1:13668:G:A</td>\n",
       "      <td>0.262</td>\n",
       "      <td>0.349</td>\n",
       "      <td>0.453</td>\n",
       "      <td>0.005851</td>\n",
       "      <td>0.006315</td>\n",
       "      <td>...</td>\n",
       "      <td>NaN</td>\n",
       "      <td>NaN</td>\n",
       "      <td>NaN</td>\n",
       "      <td>1</td>\n",
       "      <td>0.262</td>\n",
       "      <td>0.349</td>\n",
       "      <td>0.453</td>\n",
       "      <td>0.344</td>\n",
       "      <td>NaN</td>\n",
       "      <td>rs2691328</td>\n",
       "    </tr>\n",
       "  </tbody>\n",
       "</table>\n",
       "<p>3 rows × 22 columns</p>\n",
       "</div>"
      ],
      "text/plain": [
       "   #CHR    POS a1 a2          SNP  FINNGEN_beta  FINNGEN_sebeta  FINNGEN_pval  \\\n",
       "0     1  11063  T  G  1:11063:T:G           NaN             NaN           NaN   \n",
       "1     1  13259  G  A  1:13259:G:A           NaN             NaN           NaN   \n",
       "2     1  13668  G  A  1:13668:G:A         0.262           0.349         0.453   \n",
       "\n",
       "   FINNGEN_af_alt  FINNGEN_af_alt_cases  ...  UKBB_sebeta  UKBB_pval  \\\n",
       "0             NaN                   NaN  ...        36.00      0.752   \n",
       "1             NaN                   NaN  ...         1.77      0.364   \n",
       "2        0.005851              0.006315  ...          NaN        NaN   \n",
       "\n",
       "   UKBB_af_alt  all_meta_N    beta  all_inv_var_meta_sebeta   pval  \\\n",
       "0     0.000047           1 -11.300                   36.000  0.752   \n",
       "1     0.000273           1   1.610                    1.770  0.364   \n",
       "2          NaN           1   0.262                    0.349  0.453   \n",
       "\n",
       "   all_inv_var_meta_mlogp  all_inv_var_het_p        snpid  \n",
       "0                   0.124                NaN  rs561109771  \n",
       "1                   0.439                NaN  rs562993331  \n",
       "2                   0.344                NaN    rs2691328  \n",
       "\n",
       "[3 rows x 22 columns]"
      ]
     },
     "execution_count": 196,
     "metadata": {},
     "output_type": "execute_result"
    }
   ],
   "source": [
    "# L12_ALOPECAREATA, N14_IGA_NEPHROPATHY, GEST_DIABETES, G6_OTHDEMYEL, E4_THYROIDITAUTOIM,\n",
    "# E4_HYTHY_AI_STRICT, D3_ANAEMIA_B12_DEF, CHIRBIL_PRIM, AUTOIMMUNE_HYPERTHYROIDISM, M13_SJOGREN\n",
    "\n",
    "ep = 'M13_SJOGREN'\n",
    "file_in = res_dir+'data/'+ep+'_meta_out.tsv.gz'\n",
    "file_out = res_dir+'processed_stats/'+ep+'.premunge.gz'\n",
    "df = pd.read_csv(file_in, sep='\\t')\n",
    "df = df.rename(columns={\n",
    "    'rsid': 'snpid',\n",
    "    'REF': 'a1',\n",
    "    'ALT': 'a2',\n",
    "    'all_inv_var_meta_p': 'pval',\n",
    "    'all_inv_var_meta_beta': 'beta'\n",
    "})\n",
    "print(len(df))\n",
    "df.head(3)"
   ]
  },
  {
   "cell_type": "markdown",
   "id": "e993e088-3c36-4c87-81b7-f6784d01e5c9",
   "metadata": {},
   "source": [
    "2. to download data from Finngen if the endpoint cannot be found from Finngen + UKBB:\n",
    "- gsutil cp gs://finngen-production-library-green/finngen_R9/finngen_R9_analysis_data/summary_stats/release/finngen_R9_D3_AIHA_OTHER.gz /Users/feiwang/Documents/Materials"
   ]
  },
  {
   "cell_type": "code",
   "execution_count": null,
   "id": "100f23a3",
   "metadata": {
    "collapsed": false,
    "jupyter": {
     "outputs_hidden": false
    },
    "pycharm": {
     "name": "#%%\n"
    }
   },
   "outputs": [],
   "source": [
    "# D3_AIHA_OTHER, D3_ALLERGPURPURA, D3_ITP, E4_ADDISON, G6_DISSOTH, G6_GUILBAR,\n",
    "# H7_IRIDOCYC_ANTER, L12_DERMATHERP, M13_MCTD, M13_WEGENER\n",
    "\n",
    "ep = 'M13_WEGENER'\n",
    "file_in = data_dir+ep+'.gz'\n",
    "file_out = data_dir+ep+'.premunge.gz'\n",
    "df = pd.read_csv(file_in, sep='\\t')\n",
    "df = df.rename(columns={\n",
    "    'rsids': 'snpid',\n",
    "    'ref': 'a1',\n",
    "    'alt': 'a2',\n",
    "})\n",
    "print(len(df))\n",
    "df.head(3)"
   ]
  },
  {
   "cell_type": "markdown",
   "id": "c46d885b-3db9-4023-88bc-903f486331b5",
   "metadata": {},
   "source": [
    "### save the data as a pre-munge file"
   ]
  },
  {
   "cell_type": "code",
   "execution_count": 199,
   "id": "7fd56c5a",
   "metadata": {
    "collapsed": false,
    "jupyter": {
     "outputs_hidden": false
    },
    "pycharm": {
     "name": "#%%\n"
    }
   },
   "outputs": [],
   "source": [
    "# if the data above looks all good, save it as a zipped tsv\n",
    "df = df[['snpid', 'a2', 'a1', 'pval', 'beta']]\n",
    "df.to_csv(file_out, sep='\\t', compression='gzip', index=None)"
   ]
  },
  {
   "cell_type": "markdown",
   "id": "8832c0b3",
   "metadata": {
    "pycharm": {
     "name": "#%% md\n"
    }
   },
   "source": [
    "## 2. Munge the data and apply LDSC in terminal\n",
    "- In terminal, run code below:\n",
    "<code>\n",
    "    cd Projects/familial_trajectory/ldsc\n",
    "    source activate ldsc\n",
    "    ep1=T1D_STRICT\n",
    "    ep2=K11_IBD\n",
    "    python munge_sumstats.py \\\n",
    "        --sumstats data/$ep2.premunge.gz \\\n",
    "        --N-cas 2051 \\\n",
    "        --N-con 594747 \\\n",
    "        --out data/$ep2 \\\n",
    "        --merge-alleles w_hm3.snplist \\\n",
    "        --chunksize 500000\n",
    "    python ldsc.py \\\n",
    "        --rg data/$ep1.sumstats.gz,data/$ep2.sumstats.gz \\\n",
    "        --ref-ld-chr eur_w_ld_chr/ \\\n",
    "        --w-ld-chr eur_w_ld_chr/ \\\n",
    "        --out res/$ep1.$ep2\n",
    "</code>"
   ]
  },
  {
   "cell_type": "markdown",
   "id": "f2b8713b-c644-4d02-8e4b-ad58185ac7ad",
   "metadata": {},
   "source": [
    "## 3. Extract the results from log files and merge the information"
   ]
  },
  {
   "cell_type": "code",
   "execution_count": 3,
   "id": "1ee9d480",
   "metadata": {
    "collapsed": false,
    "jupyter": {
     "outputs_hidden": false
    },
    "pycharm": {
     "name": "#%%\n"
    }
   },
   "outputs": [],
   "source": [
    "def findStats(string):\n",
    "    stats1 = re.findall(r'data/([\\w_\\d]+)\\.sumstats\\.gz', string)\n",
    "    stats2 = re.findall(r'\\s+([-]{0,1}\\d\\.\\d+(e\\-\\d+){0,1})', string)\n",
    "    if len(stats2) != 10:\n",
    "        print(string)\n",
    "    stats2 = [float(\"{:.4f}\".format(float(i[0]))) for i in stats2]\n",
    "    stat_dict = dict(zip(header, stats1+stats2))\n",
    "    return pd.Series(stat_dict)\n",
    "\n",
    "def readLog(log_file, df):\n",
    "    with open(log_file) as f:\n",
    "        log = f.readlines()\n",
    "    if len(log) != 0:\n",
    "#         print(log)\n",
    "        for line in log:\n",
    "            if re.match(r'^data/', line):\n",
    "                df = df.append(findStats(line), ignore_index=True)\n",
    "    return df"
   ]
  },
  {
   "cell_type": "code",
   "execution_count": 4,
   "id": "1b327406",
   "metadata": {
    "collapsed": false,
    "jupyter": {
     "outputs_hidden": false
    },
    "pycharm": {
     "name": "#%%\n"
    }
   },
   "outputs": [],
   "source": [
    "eps = ['T1D_STRICT',\n",
    " 'M13_RHEUMA',\n",
    " 'M13_SJOGREN',\n",
    " 'M13_SYSTSLCE',\n",
    "#  'M13_DERMATOPOLY',\n",
    " 'M13_WEGENER',\n",
    " 'D3_ALLERGPURPURA',\n",
    " 'M13_MCTD',\n",
    " 'SLE_FG',\n",
    "#  'I9_RHEUFEV',\n",
    " 'G6_MS',\n",
    " 'G6_DISSOTH',\n",
    " 'AUTOIMMUNE_HYPERTHYROIDISM',\n",
    " 'E4_THYROIDITAUTOIM',\n",
    " 'E4_HYTHY_AI_STRICT',\n",
    "#  'E4_GRAVES_OPHT_STRICT',\n",
    " 'E4_ADDISON',\n",
    " 'D3_AIHA_OTHER',\n",
    " 'D3_ITP',\n",
    " 'D3_ANAEMIA_B12_DEF',\n",
    " 'K11_COELIAC',\n",
    " 'K11_IBD',\n",
    " 'G6_MYASTHENIA',\n",
    " 'G6_OTHDEMYEL',\n",
    " 'G6_MYOMUSCINOTH',\n",
    " 'G6_GUILBAR',\n",
    " 'H7_IRIDOCYC_ANTER',\n",
    " 'CHIRBIL_PRIM',\n",
    " 'L12_PSORIASIS',\n",
    " 'L12_VITILIGO',\n",
    " 'L12_ALOPECAREATA',\n",
    "#  'L12_PEMPHIGOID',\n",
    " 'L12_DERMATHERP',\n",
    " 'N14_IGA_NEPHROPATHY',\n",
    " 'T2D',\n",
    " 'GEST_DIABETES',\n",
    " 'K11_CROHN',\n",
    " 'J10_ASTHMA']"
   ]
  },
  {
   "cell_type": "code",
   "execution_count": 72,
   "id": "e94f51f8",
   "metadata": {
    "collapsed": false,
    "jupyter": {
     "outputs_hidden": false
    },
    "pycharm": {
     "name": "#%%\n"
    }
   },
   "outputs": [
    {
     "name": "stdout",
     "output_type": "stream",
     "text": [
      "M13_SJOGREN\n",
      "M13_SYSTSLCE\n",
      "G6_MYOMUSCINOTH\n"
     ]
    }
   ],
   "source": [
    "ep1 = 'T1D_STRICT'\n",
    "ep2_list = ['K11_COELIAC', 'SLE_FG', 'M13_RHEUMA', 'T2D', 'L12_VITILIGO',\n",
    " 'G6_MYASTHENIA', 'J10_ASTHMA', 'G6_MS', 'L12_PSORIASIS']\n",
    "#['K11_COELIAC', 'K11_CROHN', 'K11_IBD', 'SLE_FG', 'L12_VITILIGO', 'M13_RHEUMA', 'T2D']\n",
    "stat_df = pd.DataFrame(columns=header, dtype=object)\n",
    "for ep2 in eps[1:]:\n",
    "    f_name = res_dir+'ldsc_res/'+ep1+'.'+ep2+'.log'\n",
    "    if os.path.isfile(f_name):\n",
    "        stat_df = readLog(f_name, stat_df)\n",
    "    else:\n",
    "        print(ep2)\n",
    "stat_df = stat_df.sort_values(by='h2_obs')\n",
    "stat_df['fdr_ldsc'], _ = multitest.fdrcorrection(stat_df.p)"
   ]
  },
  {
   "cell_type": "markdown",
   "id": "873e7d68-1f94-4f74-8294-de7fc005bf26",
   "metadata": {},
   "source": [
    "## 4. convert h2 from observed scale to liability scale\n",
    "- https://gist.github.com/nievergeltlab/fb8a20feded72030907a9b4e81d1c6ea\n",
    "- https://www.sciencedirect.com/science/article/pii/S0002929711000206?via%3Dihub"
   ]
  },
  {
   "cell_type": "code",
   "execution_count": 17,
   "id": "cddde736-4ad2-44dd-949b-1770f8ce959e",
   "metadata": {},
   "outputs": [],
   "source": [
    "# Method 1:\n",
    "import json\n",
    "with open('/Users/feiwang/Documents/Projects/stats__2021-03-25.json') as f:\n",
    "    stats = json.load(f)\n",
    "stat_df['prevalence'] = [stats['stats'][i]['prevalence_all'] for i in stat_df.ep2]"
   ]
  },
  {
   "cell_type": "code",
   "execution_count": 73,
   "id": "2f577573-4145-478f-803b-973be919d25e",
   "metadata": {},
   "outputs": [],
   "source": [
    "# Method 2:\n",
    "stats = pd.read_excel(res_dir+'summary_of_ADs.xlsx', sheet_name='summary')[['Endpoint', 'Prevalence', 'case', 'control']]\n",
    "stat_df = stat_df.merge(stats.rename(columns={'Endpoint':'ep2', 'Prevalence':'prevalence'}), 'left', on='ep2') \n",
    "stat_df['prevalence'] = stat_df['prevalence']*0.01"
   ]
  },
  {
   "cell_type": "markdown",
   "id": "0b3ac7e5-3af4-4f2f-96e5-37521c885f10",
   "metadata": {},
   "source": [
    "h2_liab <- h2 * K^2 * ( 1 - K)^2 / P / (1-P) / zv^2\n",
    "\n",
    "var_h2_liab <- ( seh2 * K^2 * ( 1 - K)^2 / P / (1-P) / zv^2) ^2"
   ]
  },
  {
   "cell_type": "code",
   "execution_count": 76,
   "id": "623519d1-2a37-4be5-86bc-2116944f55e6",
   "metadata": {},
   "outputs": [],
   "source": [
    "stat_df['z_pdf'] = norm.pdf(norm.ppf(1-stat_df['prevalence']))\n",
    "stat_df['proportion'] = stat_df.case / stat_df.control\n",
    "stat_df['h2_lia'] = stat_df.h2_obs*(stat_df.prevalence**2)*(1-stat_df.prevalence)**2/stat_df.proportion/(1-stat_df.proportion)/(stat_df.z_pdf**2)\n",
    "stat_df['se_lia'] = stat_df.h2_obs_se*(stat_df.prevalence**2)*(1-stat_df.prevalence)**2/stat_df.proportion/(1-stat_df.proportion)/(stat_df.z_pdf**2)"
   ]
  },
  {
   "cell_type": "code",
   "execution_count": 92,
   "id": "d219c068-9174-4b91-b6ce-821645bbc069",
   "metadata": {},
   "outputs": [
    {
     "data": {
      "text/plain": [
       "0.6269230284025792"
      ]
     },
     "execution_count": 92,
     "metadata": {},
     "output_type": "execute_result"
    }
   ],
   "source": [
    "from scipy.stats import chi2\n",
    "chi2.cdf(1-(0.021359**2)/(0.046990**2), 1)"
   ]
  },
  {
   "cell_type": "code",
   "execution_count": 130,
   "id": "65232db5-124b-4fdd-a213-d07406e7a1b1",
   "metadata": {},
   "outputs": [],
   "source": [
    "stat_df['rg_025'] = stat_df.rg - 1.96*stat_df.se\n",
    "stat_df['rg_975'] = stat_df.rg + 1.96*stat_df.se"
   ]
  },
  {
   "cell_type": "markdown",
   "id": "d9889c89-7950-41d0-820e-3513c5f38721",
   "metadata": {},
   "source": [
    "## 5. Visualize the final results"
   ]
  },
  {
   "cell_type": "code",
   "execution_count": 305,
   "id": "3531d837-85a3-4c38-b090-ee6bdae23d12",
   "metadata": {},
   "outputs": [],
   "source": [
    "def plot_odds_ratio(df, outcome):\n",
    "    \"\"\"\n",
    "    :param results: a DataFrame of summary statistics\n",
    "    :param eps: a list of diseases\n",
    "    :param outcome: a string which indicates the outcome disease name\n",
    "    :param group_delta: a float which indicates the distance between father's OR and mother's OR given the same disease\n",
    "    :param bar_cap: a float which indicates the length of error bar cap\n",
    "    :return: a odds ratio plot of all the diseases in the list\n",
    "    \"\"\"\n",
    "    df = df.sort_values(by='endpoint')\n",
    "    df.index = range(len(df))\n",
    "    plt.figure(figsize=(15, 5))\n",
    "    plt.box(False)\n",
    "    plt.grid()\n",
    "    eps_sig = []\n",
    "    for i, row in df.iterrows():\n",
    "        alpha = 1 if row.pval <= 0.05 / len(df) else 0.08\n",
    "        if alpha == 1:\n",
    "            eps_sig.append(row.endpoint)\n",
    "        plt.plot((i, i), (row.hr_025, row.hr_975), color='green', alpha=alpha)\n",
    "        plt.plot(i, (row.hr_025+row.hr_975)/2, 's', color='green', alpha=alpha)\n",
    "\n",
    "    plt.xticks(range(len(df)), df.endpoint.tolist(), rotation=90)\n",
    "    plt.ylabel('Odds ratio', size=12)\n",
    "    plt.axhline(y=1.0, color='black', linestyle='--', linewidth=1)\n",
    "    plt.grid()\n",
    "    plt.title(outcome, size=20)\n",
    "    plt.show()\n",
    "    return eps_sig"
   ]
  },
  {
   "cell_type": "code",
   "execution_count": 306,
   "id": "73c46cd0-15e2-4494-9ac3-542e44cdc941",
   "metadata": {},
   "outputs": [
    {
     "data": {
      "image/png": "[encoded data removed]",
      "text/plain": [
       "<Figure size 1080x360 with 1 Axes>"
      ]
     },
     "metadata": {
      "needs_background": "light"
     },
     "output_type": "display_data"
    }
   ],
   "source": [
    "registry_res = pd.read_excel(res_dir+'summary_of_ADs.xlsx', sheet_name='registry_res')\n",
    "eps_sig = plot_odds_ratio(registry_res[registry_res.who == 'parent'], 'T1D_STRICT')"
   ]
  },
  {
   "cell_type": "code",
   "execution_count": 248,
   "id": "121d3308-d9c5-44d9-94b2-359ecb41ca7c",
   "metadata": {},
   "outputs": [],
   "source": [
    "def process_crossed_data(dataset, note):\n",
    "    \"\"\"\n",
    "    :param data: a DataFrame of summary statistics\n",
    "    :param note: 'boy', 'girl'\n",
    "    :return: a DataFrame of processed summary statistics\n",
    "    \"\"\"\n",
    "    df1 = dataset[(dataset.note == note) & (dataset.who == 'father')][['endpoint',\"pval\", \"hr_025\", \"hr_975\", \"se\"]]\n",
    "    df1 = df1.rename(columns={\"pval\": 'p_fa', \"hr_025\": 'lower_fa', \"hr_975\": 'upper_fa', \"se\": 'se_fa'})\n",
    "    df2 = dataset[(dataset.note == note) & (dataset.who == 'mother')][['endpoint',\"pval\", \"hr_025\", \"hr_975\", \"se\"]]\n",
    "    df2 = df2.rename(columns={\"pval\": 'p_mo', \"hr_025\": 'lower_mo', \"hr_975\": 'upper_mo', \"se\": 'se_mo'})\n",
    "    df1 = df1.merge(df2, 'outer', on='endpoint')\n",
    "\n",
    "    df1['hr_fa'] = (df1.lower_fa + df1.upper_fa) / 2\n",
    "    df1['hr_mo'] = (df1.lower_mo + df1.upper_mo) / 2\n",
    "    df1['hr_test'] = (df1.hr_fa - df1.hr_mo) / np.sqrt(df1.se_fa ** 2 + df1.se_mo ** 2)  # t-test\n",
    "    df1['hr_p'] = 2 * scipy.stats.norm.cdf(-np.abs(df1.hr_test))\n",
    "    df1['hr_significant'] = [True if i < 0.05 / len(df1) else False for i in df1.hr_p]\n",
    "\n",
    "    return df1"
   ]
  },
  {
   "cell_type": "code",
   "execution_count": 314,
   "id": "4dff94cf-fbcd-4b80-b612-8775c1a9f6e2",
   "metadata": {},
   "outputs": [],
   "source": [
    "from matplotlib.ticker import ScalarFormatter\n",
    "def plot_crossed_odds_ratio(data, note, color, outcome='T1D_STRICT'):\n",
    "    \"\"\"\n",
    "    :param data: a DataFrame of summary statistics\n",
    "    :param note_tuple: a tuple which indicates the two group names\n",
    "    :param outcome: a string which indicates the outcome disease name\n",
    "    :return: a odds ratio plot of the diseases by groups\n",
    "    \"\"\"\n",
    "    dataset = process_crossed_data(data, note)\n",
    "    plt.figure(figsize=(7, 7))\n",
    "    plt.box(False)\n",
    "\n",
    "    for _, row in dataset.iterrows():\n",
    "        x, y = row.hr_fa, row.hr_mo\n",
    "        if row.hr_significant:\n",
    "            alpha = 1\n",
    "            plt.annotate(row.endpoint, (x*1.05, y*1.05))\n",
    "        else:\n",
    "            alpha = .1\n",
    "        plt.plot(x, y, 's', color=color, alpha=alpha)\n",
    "        plt.plot((row.lower_fa, row.upper_fa), (y, y), color=color, alpha=alpha)\n",
    "        plt.plot((x, x), (row.lower_mo, row.upper_mo), color=color, alpha=alpha)\n",
    "\n",
    "    plt.title(note, size=16)\n",
    "    plt.xlabel('Father', size=12)\n",
    "    plt.ylabel('Mother', size=12)\n",
    "    plt.xscale('log')\n",
    "    plt.yscale('log')\n",
    "    ticks = [.5, 1, 3, 12]\n",
    "    plt.xticks(ticks)\n",
    "    plt.yticks(ticks)\n",
    "    plt.plot([ticks[0], ticks[-1]], [ticks[0], ticks[-1]], color='grey', linestyle='--', linewidth=1)\n",
    "    ax = plt.gca()\n",
    "    ax.get_xaxis().set_major_formatter(ScalarFormatter())\n",
    "    ax.get_yaxis().set_major_formatter(ScalarFormatter())\n",
    "    plt.grid()\n",
    "    plt.show()"
   ]
  },
  {
   "cell_type": "code",
   "execution_count": 315,
   "id": "2c722942-b814-46a8-86bf-38280ed6ea78",
   "metadata": {},
   "outputs": [
    {
     "data": {
      "image/png": "[encoded data removed]",
      "text/plain": [
       "<Figure size 504x504 with 1 Axes>"
      ]
     },
     "metadata": {
      "needs_background": "light"
     },
     "output_type": "display_data"
    },
    {
     "data": {
      "image/png": "[encoded data removed]",
      "text/plain": [
       "<Figure size 504x504 with 1 Axes>"
      ]
     },
     "metadata": {
      "needs_background": "light"
     },
     "output_type": "display_data"
    }
   ],
   "source": [
    "plot_crossed_odds_ratio(registry_res, 'girl', 'orange')\n",
    "plot_crossed_odds_ratio(registry_res, 'boy', 'blue')"
   ]
  },
  {
   "cell_type": "code",
   "execution_count": 312,
   "id": "78f7335f-6a75-4434-a011-b3611361965c",
   "metadata": {
    "tags": []
   },
   "outputs": [],
   "source": [
    "def plot_comparisons(df, outcome):\n",
    "    \"\"\"\n",
    "    :param results: a DataFrame of summary statistics\n",
    "    :param eps: a list of diseases\n",
    "    :param outcome: a string which indicates the outcome disease name\n",
    "    :param group_delta: a float which indicates the distance between father's OR and mother's OR given the same disease\n",
    "    :param bar_cap: a float which indicates the length of error bar cap\n",
    "    :return: a odds ratio plot of all the diseases in the list\n",
    "    \"\"\"\n",
    "    df = df.sort_values(by='endpoint')\n",
    "    df.index = range(len(df))\n",
    "    fig, (ax2,ax1) = plt.subplots(nrows=2, sharex=True, figsize=(15, 5), subplot_kw=dict(frameon=False)) # frameon=False removes frames\n",
    "    plt.subplots_adjust(hspace=.5)\n",
    "    for i, row in df.iterrows():\n",
    "        alpha_rg = 1 if row.p_rg <= 0.05 / len(df) else 0.08\n",
    "        alpha_hr = 1 if row.p_hr <= 0.05 / len(df) else 0.08\n",
    "        ax1.plot((i, i), (row.rg_025, row.rg_975), color='tomato', alpha=alpha_rg)\n",
    "        ax1.plot(i, (row.rg_025+row.rg_975)/2, 's', color='tomato', alpha=alpha_rg)\n",
    "        ax2.plot((i, i), (row.hr_025, row.hr_975), color='green', alpha=alpha_hr)\n",
    "        ax2.plot(i, (row.hr_025+row.hr_975)/2, 's', color='green', alpha=alpha_hr)\n",
    "    ax1.axhline(y=0.0, color='black', linestyle='--', linewidth=1)\n",
    "    ax2.axhline(y=1.0, color='black', linestyle='--', linewidth=1)\n",
    "    plt.xticks(range(len(df)), df.endpoint.tolist(), rotation=90)\n",
    "    ax1.set_ylabel('Genetic correlation', size=12)\n",
    "    ax2.set_ylabel('Registry-based odds ratio', size=12)\n",
    "    plt.show()\n"
   ]
  },
  {
   "cell_type": "code",
   "execution_count": 313,
   "id": "1c1bb9c0-f903-45e0-a52c-13f2ab6b44b5",
   "metadata": {},
   "outputs": [
    {
     "data": {
      "image/png": "[encoded data removed]",
      "text/plain": [
       "<Figure size 1080x360 with 2 Axes>"
      ]
     },
     "metadata": {
      "needs_background": "light"
     },
     "output_type": "display_data"
    }
   ],
   "source": [
    "res = stat_df[['ep2', 'rg_025', 'rg_975', 'p']].rename(columns={'ep2': 'endpoint', 'p': 'p_rg'})\n",
    "res = res.merge(registry_res[registry_res.who == 'parent'][['endpoint', 'pval', 'hr_025', 'hr_975']].rename(columns={'pval':'p_hr'}), 'left', on='endpoint')\n",
    "plot_comparisons(res, 'T1D_STRICT')"
   ]
  },
  {
   "cell_type": "code",
   "execution_count": null,
   "id": "3a0710c0-68d6-44d4-986a-9c607a06767d",
   "metadata": {},
   "outputs": [],
   "source": []
  }
 ],
 "metadata": {
  "kernelspec": {
   "display_name": "Python 3",
   "language": "python",
   "name": "python3"
  },
  "language_info": {
   "codemirror_mode": {
    "name": "ipython",
    "version": 3
   },
   "file_extension": ".py",
   "mimetype": "text/x-python",
   "name": "python",
   "nbconvert_exporter": "python",
   "pygments_lexer": "ipython3",
   "version": "3.7.9"
  }
 },
 "nbformat": 4,
 "nbformat_minor": 5
}
