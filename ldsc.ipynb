{
 "cells": [
  {
   "cell_type": "code",
   "execution_count": null,
   "outputs": [],
   "source": [
    "import re\n",
    "import os\n",
    "import pandas as pd\n",
    "import numpy as np\n",
    "\n",
    "data_dir = os. getcwd()+'/data/'\n",
    "res_dir = os. getcwd()+'/res/'\n",
    "header = ['ep1', 'ep2', 'rg', 'se','z', 'p', 'h2_obs', 'h2_obs_se'  'h2_int', 'h2_int_se', 'gcov_int', 'gcov_int_se']"
   ],
   "metadata": {
    "collapsed": false,
    "pycharm": {
     "name": "#%%\n"
    }
   }
  },
  {
   "cell_type": "code",
   "execution_count": null,
   "outputs": [],
   "source": [
    "# Choose the summary stats by the effect size. The bigger, the better.\n",
    "# formula: ((4 * n_cases * n_controls)/(n_cases + n_controls))\n",
    "\n",
    "ep = 'G6_MS'\n",
    "# 'T1D_STRICT', 'K11_COELIAC', 'SLE_FG', 'M13_RHEUMA', 'T2D', 'L12_VITILIGO'\n",
    "# 'G6_MYASTHENIA', 'J10_ASTHMA', 'G6_MS', 'L12_PSORIASIS'\n",
    "\n",
    "file_in = data_dir+ep+'.txt' # tsv txt\n",
    "if not os.path.isfile(file_in):\n",
    "    file_in = data_dir+ep+'.tsv'\n",
    "if not os.path.isfile(file_in):\n",
    "    file_in = data_dir+ep+'.csv'\n",
    "if not os.path.isfile(file_in):\n",
    "    print('Data cannot be found!')\n",
    "file_out = data_dir+ep+'.premunge.gz'\n",
    "df = pd.read_csv(file_in, sep='\\t')\n",
    "if len(df.columns) == 1:\n",
    "    df = pd.read_csv(file_in, sep=' ')\n",
    "if len(df.columns) == 1:\n",
    "    df = pd.read_csv(file_in)\n",
    "#     try:\n",
    "#         df = pd.read_csv(file_in, sep=' ')\n",
    "#     except pd.errors.ParserError:\n",
    "#         df = pd.read_csv(file_in)\n",
    "df = df.rename(columns={\n",
    "    'rsid': 'snpid', 'SNPID': 'snpid', 'variant_id': 'snpid', 'SNP': 'snpid',\n",
    "    'effect_allele': 'a1', 'A1': 'a1', 'A1_effect': 'a1',\n",
    "    'other_allele': 'a2', 'A2': 'a2', 'A2_other': 'a2',\n",
    "    'p': 'pval', 'P-val': 'pval', 'p_value': 'pval', 'P_EUR': 'pval',\n",
    "    'OR(A1)': 'or', 'odds_ratio': 'or',\n",
    "    'standard_error': 'se', 'se_EUR': 'se',\n",
    "    'beta_EUR': 'beta'\n",
    "})\n",
    "print(len(df))\n",
    "df.head(3)"
   ],
   "metadata": {
    "collapsed": false,
    "pycharm": {
     "name": "#%%\n"
    }
   }
  },
  {
   "cell_type": "code",
   "execution_count": null,
   "outputs": [],
   "source": [
    "# 'K11_IBD', 'K11_CROHN', 'M13_SJOGREN' finn, 'M13_SYSTSLCE' 格式, 'G6_MS'\n",
    "\n",
    "ep = 'K11_CROHN'\n",
    "file_in = data_dir+ep+'.txt'\n",
    "file_out = data_dir+ep+'.premunge.gz'\n",
    "matrix = []\n",
    "with open(file_in) as f:\n",
    "    for line in f:\n",
    "        row = line.split(' ')\n",
    "        if len(row) != 8:\n",
    "            row = row[:7] + [row[-1]]\n",
    "        matrix.append(row)\n",
    "matrix = np.array(matrix)\n",
    "df = pd.DataFrame(matrix[1:], columns=matrix[0])\n",
    "df['snpid'] = df['SNP\\n'].str[:-1]\n",
    "df = df.rename(columns={\n",
    "    'Allele1': 'a1',\n",
    "    'Allele2': 'a2',\n",
    "    'P.value': 'pval',\n",
    "    'Effect': 'beta'\n",
    "})\n",
    "print(len(df))\n",
    "df.head(3)"
   ],
   "metadata": {
    "collapsed": false,
    "pycharm": {
     "name": "#%%\n"
    }
   }
  },
  {
   "cell_type": "markdown",
   "source": [
    "### to download data from Finngen + UKBB:\n",
    "gsutil cp gs://finngen-production-library-green/finngen_R9/finngen_R9_analysis_data/ukbb_meta/meta/AUTOIMMUNE_HYPERTHYROIDISM_meta_out.tsv.gz /Users/feiwang/Documents/Materials\n",
    "### to download data from Finngen:\n",
    "gsutil cp gs://finngen-production-library-green/finngen_R9/finngen_R9_analysis_data/summary_stats/release/finngen_R9_D3_AIHA_OTHER.gz /Users/feiwang/Documents/Materials"
   ],
   "metadata": {
    "collapsed": false,
    "pycharm": {
     "name": "#%% md\n"
    }
   }
  },
  {
   "cell_type": "code",
   "execution_count": null,
   "outputs": [],
   "source": [
    "# D3_AIHA_OTHER, D3_ALLERGPURPURA, D3_ITP, E4_ADDISON, G6_DISSOTH, G6_GUILBAR,\n",
    "# H7_IRIDOCYC_ANTER, L12_DERMATHERP, M13_MCTD, M13_WEGENER\n",
    "\n",
    "ep = 'M13_WEGENER'\n",
    "file_in = data_dir+ep+'.gz'\n",
    "file_out = data_dir+ep+'.premunge.gz'\n",
    "df = pd.read_csv(file_in, sep='\\t')\n",
    "df = df.rename(columns={\n",
    "    'rsids': 'snpid',\n",
    "    'ref': 'a1',\n",
    "    'alt': 'a2',\n",
    "})\n",
    "print(len(df))\n",
    "df.head(3)"
   ],
   "metadata": {
    "collapsed": false,
    "pycharm": {
     "name": "#%%\n"
    }
   }
  },
  {
   "cell_type": "code",
   "execution_count": null,
   "outputs": [],
   "source": [
    "# L12_ALOPECAREATA, N14_IGA_NEPHROPATHY, GEST_DIABETES, G6_OTHDEMYEL, E4_THYROIDITAUTOIM,\n",
    "# E4_HYTHY_AI_STRICT, D3_ANAEMIA_B12_DEF, CHIRBIL_PRIM, AUTOIMMUNE_HYPERTHYROIDISM\n",
    "\n",
    "ep = 'AUTOIMMUNE_HYPERTHYROIDISM'\n",
    "file_in = data_dir+ep+'.tsv.gz'\n",
    "file_out = data_dir+ep+'.premunge.gz'\n",
    "df = pd.read_csv(file_in, sep='\\t')\n",
    "df = df.rename(columns={\n",
    "    'rsid': 'snpid',\n",
    "    'REF': 'a1',\n",
    "    'ALT': 'a2',\n",
    "    'all_inv_var_meta_p': 'pval',\n",
    "    'all_inv_var_meta_beta': 'beta'\n",
    "})\n",
    "print(len(df))\n",
    "df.head(3)"
   ],
   "metadata": {
    "collapsed": false,
    "pycharm": {
     "name": "#%%\n"
    }
   }
  },
  {
   "cell_type": "code",
   "execution_count": null,
   "outputs": [],
   "source": [
    "# if the data above looks all good, save it as a zipped tsv\n",
    "df = df[['snpid', 'a2', 'a1', 'pval', 'beta']]\n",
    "df.to_csv(file_out, sep='\\t', compression='gzip', index=None)"
   ],
   "metadata": {
    "collapsed": false,
    "pycharm": {
     "name": "#%%\n"
    }
   }
  },
  {
   "cell_type": "code",
   "execution_count": null,
   "outputs": [],
   "source": [
    "ep1=T1D_STRICT\n",
    "ep2=K11_IBD\n",
    "python munge_sumstats.py \\\n",
    "    --sumstats data/$ep2.premunge.gz \\\n",
    "    --N-cas 2051 \\\n",
    "    --N-con 594747 \\\n",
    "    --out data/$ep2 \\\n",
    "    --merge-alleles w_hm3.snplist \\\n",
    "    --chunksize 500000\n",
    "python ldsc.py \\\n",
    "    --rg data/$ep1.sumstats.gz,data/$ep2.sumstats.gz \\\n",
    "    --ref-ld-chr eur_w_ld_chr/ \\\n",
    "    --w-ld-chr eur_w_ld_chr/ \\\n",
    "    --out res/$ep1.$ep2"
   ],
   "metadata": {
    "collapsed": false,
    "pycharm": {
     "name": "#%%\n"
    }
   }
  },
  {
   "cell_type": "markdown",
   "source": [
    "### In terminal, run code below:\n",
    "<code>\n",
    "\n",
    "    cd Projects/familial_trajectory/ldsc\n",
    "    source activate ldsc\n",
    "    ep=K11_IBD\n",
    "    python munge_sumstats.py \\\n",
    "        --sumstats data/$ep.premunge.gz \\\n",
    "        --N-cas 3440 \\\n",
    "        --N-con 37031 \\\n",
    "        --out data/$ep \\\n",
    "        --merge-alleles w_hm3.snplist \\\n",
    "        --chunksize 500000\n",
    "\n",
    "    ep1=T1D_STRICT\n",
    "    ep2=K11_COELIAC\n",
    "    python ldsc.py \\\n",
    "        --rg data/$ep1.sumstats.gz,data/$ep2.sumstats.gz \\\n",
    "        --ref-ld-chr eur_w_ld_chr/ \\\n",
    "        --w-ld-chr eur_w_ld_chr/ \\\n",
    "        --out res/$ep1.$ep2\n",
    "</code>"
   ],
   "metadata": {
    "collapsed": false,
    "pycharm": {
     "name": "#%% md\n"
    }
   }
  },
  {
   "cell_type": "code",
   "execution_count": null,
   "outputs": [],
   "source": [
    "def findStats(string):\n",
    "    stats1 = re.findall(r'data/([\\w_\\d]+)\\.sumstats\\.gz', string)\n",
    "    stats2 = re.findall(r'\\s+(\\d\\.\\d+(e\\-\\d+){0,1})', string)\n",
    "    stats2 = [float(\"{:.4f}\".format(float(i[0]))) for i in stats2]\n",
    "    stat_dict = dict(zip(header, stats1+stats2))\n",
    "    return pd.Series(stat_dict)\n",
    "\n",
    "def readLog(log_file, df):\n",
    "    with open(log_file) as f:\n",
    "        log = f.readlines()\n",
    "    if len(log) != 0:\n",
    "#         print(log)\n",
    "        for line in log:\n",
    "            if re.match(r'^data/', line):\n",
    "                df = df.append(findStats(line), ignore_index=True)\n",
    "    return df"
   ],
   "metadata": {
    "collapsed": false,
    "pycharm": {
     "name": "#%%\n"
    }
   }
  },
  {
   "cell_type": "code",
   "execution_count": null,
   "outputs": [],
   "source": [
    "ep1 = 'T1D_STRICT'\n",
    "ep2_list = ['K11_COELIAC', 'SLE_FG', 'M13_RHEUMA', 'T2D', 'L12_VITILIGO',\n",
    " 'G6_MYASTHENIA', 'J10_ASTHMA', 'G6_MS', 'L12_PSORIASIS']\n",
    "#['K11_COELIAC', 'K11_CROHN', 'K11_IBD', 'SLE_FG', 'L12_VITILIGO', 'M13_RHEUMA', 'T2D']\n",
    "stat_df = pd.DataFrame(columns=header, dtype=object)\n",
    "for ep2 in eps:\n",
    "    f_name = res_dir+ep1+'.'+ep2+'.log'\n",
    "    if os.path.isfile(f_name):\n",
    "        stat_df = readLog(f_name, stat_df)\n",
    "    else:\n",
    "        print(ep2)\n",
    "stat_df"
   ],
   "metadata": {
    "collapsed": false,
    "pycharm": {
     "name": "#%%\n"
    }
   }
  },
  {
   "cell_type": "code",
   "execution_count": null,
   "outputs": [],
   "source": [
    "eps = ['T1D_STRICT',\n",
    " 'M13_RHEUMA',\n",
    " 'M13_SJOGREN',\n",
    " 'M13_SYSTSLCE',\n",
    "#  'M13_DERMATOPOLY',\n",
    " 'M13_WEGENER',\n",
    " 'D3_ALLERGPURPURA',\n",
    " 'M13_MCTD',\n",
    " 'SLE_FG',\n",
    "#  'I9_RHEUFEV',\n",
    " 'G6_MS',\n",
    " 'G6_DISSOTH',\n",
    " 'AUTOIMMUNE_HYPERTHYROIDISM',\n",
    " 'E4_THYROIDITAUTOIM',\n",
    " 'E4_HYTHY_AI_STRICT',\n",
    "#  'E4_GRAVES_OPHT_STRICT',\n",
    " 'E4_ADDISON',\n",
    " 'D3_AIHA_OTHER',\n",
    " 'D3_ITP',\n",
    " 'D3_ANAEMIA_B12_DEF',\n",
    " 'K11_COELIAC',\n",
    " 'K11_IBD',\n",
    " 'G6_MYASTHENIA',\n",
    " 'G6_OTHDEMYEL',\n",
    " 'G6_MYOMUSCINOTH',\n",
    " 'G6_GUILBAR',\n",
    " 'H7_IRIDOCYC_ANTER',\n",
    " 'CHIRBIL_PRIM',\n",
    " 'L12_PSORIASIS',\n",
    " 'L12_VITILIGO',\n",
    " 'L12_ALOPECAREATA',\n",
    "#  'L12_PEMPHIGOID',\n",
    " 'L12_DERMATHERP',\n",
    " 'N14_IGA_NEPHROPATHY',\n",
    " 'T2D',\n",
    " 'GEST_DIABETES',\n",
    " 'K11_CROHN',\n",
    " 'J10_ASTHMA']"
   ],
   "metadata": {
    "collapsed": false,
    "pycharm": {
     "name": "#%%\n"
    }
   }
  },
  {
   "cell_type": "code",
   "execution_count": 47,
   "id": "78cf152b-2d4c-4dc5-ba62-dd65d04e027b",
   "metadata": {},
   "outputs": [
    {
     "data": {
      "text/html": [
       "<div>\n",
       "<style scoped>\n",
       "    .dataframe tbody tr th:only-of-type {\n",
       "        vertical-align: middle;\n",
       "    }\n",
       "\n",
       "    .dataframe tbody tr th {\n",
       "        vertical-align: top;\n",
       "    }\n",
       "\n",
       "    .dataframe thead th {\n",
       "        text-align: right;\n",
       "    }\n",
       "</style>\n",
       "<table border=\"1\" class=\"dataframe\">\n",
       "  <thead>\n",
       "    <tr style=\"text-align: right;\">\n",
       "      <th></th>\n",
       "      <th>variant_id</th>\n",
       "      <th>p_value</th>\n",
       "      <th>chromosome</th>\n",
       "      <th>base_pair_location</th>\n",
       "      <th>effect_allele</th>\n",
       "      <th>other_allele</th>\n",
       "      <th>effect_allele_frequency</th>\n",
       "      <th>beta</th>\n",
       "      <th>standard_error</th>\n",
       "      <th>sample_size</th>\n",
       "    </tr>\n",
       "  </thead>\n",
       "  <tbody>\n",
       "    <tr>\n",
       "      <th>0</th>\n",
       "      <td>rs367896724</td>\n",
       "      <td>0.284</td>\n",
       "      <td>1</td>\n",
       "      <td>10177</td>\n",
       "      <td>AC</td>\n",
       "      <td>A</td>\n",
       "      <td>0.398000</td>\n",
       "      <td>0.059058</td>\n",
       "      <td>0.055112</td>\n",
       "      <td>363495</td>\n",
       "    </tr>\n",
       "    <tr>\n",
       "      <th>1</th>\n",
       "      <td>rs555500075</td>\n",
       "      <td>0.731</td>\n",
       "      <td>1</td>\n",
       "      <td>10352</td>\n",
       "      <td>TA</td>\n",
       "      <td>T</td>\n",
       "      <td>0.393000</td>\n",
       "      <td>0.019496</td>\n",
       "      <td>0.056730</td>\n",
       "      <td>363495</td>\n",
       "    </tr>\n",
       "    <tr>\n",
       "      <th>2</th>\n",
       "      <td>rs534229142</td>\n",
       "      <td>0.844</td>\n",
       "      <td>1</td>\n",
       "      <td>10511</td>\n",
       "      <td>A</td>\n",
       "      <td>G</td>\n",
       "      <td>0.001310</td>\n",
       "      <td>-0.148768</td>\n",
       "      <td>0.756536</td>\n",
       "      <td>363495</td>\n",
       "    </tr>\n",
       "    <tr>\n",
       "      <th>3</th>\n",
       "      <td>rs376342519</td>\n",
       "      <td>0.504</td>\n",
       "      <td>1</td>\n",
       "      <td>10616</td>\n",
       "      <td>C</td>\n",
       "      <td>CCGCCGTTGCAAAGGCGCGCCG</td>\n",
       "      <td>0.994000</td>\n",
       "      <td>0.242325</td>\n",
       "      <td>0.362319</td>\n",
       "      <td>363495</td>\n",
       "    </tr>\n",
       "    <tr>\n",
       "      <th>4</th>\n",
       "      <td>rs558604819</td>\n",
       "      <td>0.499</td>\n",
       "      <td>1</td>\n",
       "      <td>10642</td>\n",
       "      <td>A</td>\n",
       "      <td>G</td>\n",
       "      <td>0.000214</td>\n",
       "      <td>-1.330179</td>\n",
       "      <td>1.968856</td>\n",
       "      <td>363495</td>\n",
       "    </tr>\n",
       "    <tr>\n",
       "      <th>5</th>\n",
       "      <td>rs575272151</td>\n",
       "      <td>0.413</td>\n",
       "      <td>1</td>\n",
       "      <td>11008</td>\n",
       "      <td>G</td>\n",
       "      <td>C</td>\n",
       "      <td>0.086100</td>\n",
       "      <td>-0.077214</td>\n",
       "      <td>0.094349</td>\n",
       "      <td>363495</td>\n",
       "    </tr>\n",
       "    <tr>\n",
       "      <th>6</th>\n",
       "      <td>rs544419019</td>\n",
       "      <td>0.413</td>\n",
       "      <td>1</td>\n",
       "      <td>11012</td>\n",
       "      <td>G</td>\n",
       "      <td>C</td>\n",
       "      <td>0.086100</td>\n",
       "      <td>-0.077214</td>\n",
       "      <td>0.094349</td>\n",
       "      <td>363495</td>\n",
       "    </tr>\n",
       "    <tr>\n",
       "      <th>7</th>\n",
       "      <td>rs561109771</td>\n",
       "      <td>0.376</td>\n",
       "      <td>1</td>\n",
       "      <td>11063</td>\n",
       "      <td>G</td>\n",
       "      <td>T</td>\n",
       "      <td>0.000046</td>\n",
       "      <td>11.653539</td>\n",
       "      <td>13.165550</td>\n",
       "      <td>363495</td>\n",
       "    </tr>\n",
       "    <tr>\n",
       "      <th>8</th>\n",
       "      <td>rs540538026</td>\n",
       "      <td>0.216</td>\n",
       "      <td>1</td>\n",
       "      <td>13110</td>\n",
       "      <td>A</td>\n",
       "      <td>G</td>\n",
       "      <td>0.059300</td>\n",
       "      <td>0.154051</td>\n",
       "      <td>0.124597</td>\n",
       "      <td>363495</td>\n",
       "    </tr>\n",
       "    <tr>\n",
       "      <th>9</th>\n",
       "      <td>rs62635286</td>\n",
       "      <td>0.229</td>\n",
       "      <td>1</td>\n",
       "      <td>13116</td>\n",
       "      <td>G</td>\n",
       "      <td>T</td>\n",
       "      <td>0.189000</td>\n",
       "      <td>0.089233</td>\n",
       "      <td>0.074200</td>\n",
       "      <td>363495</td>\n",
       "    </tr>\n",
       "  </tbody>\n",
       "</table>\n",
       "</div>"
      ],
      "text/plain": [
       "    variant_id  p_value  chromosome  base_pair_location effect_allele  \\\n",
       "0  rs367896724    0.284           1               10177            AC   \n",
       "1  rs555500075    0.731           1               10352            TA   \n",
       "2  rs534229142    0.844           1               10511             A   \n",
       "3  rs376342519    0.504           1               10616             C   \n",
       "4  rs558604819    0.499           1               10642             A   \n",
       "5  rs575272151    0.413           1               11008             G   \n",
       "6  rs544419019    0.413           1               11012             G   \n",
       "7  rs561109771    0.376           1               11063             G   \n",
       "8  rs540538026    0.216           1               13110             A   \n",
       "9   rs62635286    0.229           1               13116             G   \n",
       "\n",
       "             other_allele  effect_allele_frequency       beta  standard_error  \\\n",
       "0                       A                 0.398000   0.059058        0.055112   \n",
       "1                       T                 0.393000   0.019496        0.056730   \n",
       "2                       G                 0.001310  -0.148768        0.756536   \n",
       "3  CCGCCGTTGCAAAGGCGCGCCG                 0.994000   0.242325        0.362319   \n",
       "4                       G                 0.000214  -1.330179        1.968856   \n",
       "5                       C                 0.086100  -0.077214        0.094349   \n",
       "6                       C                 0.086100  -0.077214        0.094349   \n",
       "7                       T                 0.000046  11.653539       13.165550   \n",
       "8                       G                 0.059300   0.154051        0.124597   \n",
       "9                       T                 0.189000   0.089233        0.074200   \n",
       "\n",
       "   sample_size  \n",
       "0       363495  \n",
       "1       363495  \n",
       "2       363495  \n",
       "3       363495  \n",
       "4       363495  \n",
       "5       363495  \n",
       "6       363495  \n",
       "7       363495  \n",
       "8       363495  \n",
       "9       363495  "
      ]
     },
     "execution_count": 47,
     "metadata": {},
     "output_type": "execute_result"
    }
   ],
   "source": [
    "pd.read_csv(data_dir+'/autoimmune_gwas_sumstats/GCST90014023_buildGRCh38.tsv', nrows=10, sep='\\t')"
   ]
  },
  {
   "cell_type": "code",
   "execution_count": null,
   "id": "0f5668c6-3322-431f-95ee-9724bfb4f946",
   "metadata": {},
   "outputs": [],
   "source": []
  }
 ],
 "metadata": {
  "kernelspec": {
   "display_name": "Python 3",
   "language": "python",
   "name": "python3"
  },
  "language_info": {
   "codemirror_mode": {
    "name": "ipython",
    "version": 3
   },
   "file_extension": ".py",
   "mimetype": "text/x-python",
   "name": "python",
   "nbconvert_exporter": "python",
   "pygments_lexer": "ipython3",
   "version": "3.7.9"
  }
 },
 "nbformat": 4,
 "nbformat_minor": 5
}